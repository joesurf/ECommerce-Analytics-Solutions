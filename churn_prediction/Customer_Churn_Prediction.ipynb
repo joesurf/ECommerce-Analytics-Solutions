{
 "cells": [
  {
   "cell_type": "code",
   "execution_count": 40,
   "metadata": {},
   "outputs": [],
   "source": [
    "import pandas as pd\n",
    "from sklearn.model_selection import train_test_split\n",
    "from sklearn.preprocessing import StandardScaler\n",
    "from sklearn.linear_model import LogisticRegression\n",
    "import statsmodels.api as sm\n",
    "from sklearn.metrics import classification_report, accuracy_score, confusion_matrix, ConfusionMatrixDisplay, classification_report, f1_score, roc_auc_score, roc_curve, precision_score, recall_score, auc\n",
    "from sklearn.ensemble import RandomForestClassifier\n",
    "from sklearn.model_selection import GridSearchCV\n",
    "from sklearn.svm import SVC\n",
    "import seaborn as sns\n",
    "import matplotlib.pyplot as plt"
   ]
  },
  {
   "cell_type": "code",
   "execution_count": 2,
   "metadata": {},
   "outputs": [
    {
     "data": {
      "text/plain": [
       "Index(['Unnamed: 0', 'customer_id', 'customer_unique_id',\n",
       "       'customer_zip_code_prefix', 'customer_city', 'customer_state',\n",
       "       'order_id', 'order_status', 'order_purchase_timestamp',\n",
       "       'order_approved_at', 'order_delivered_carrier_date',\n",
       "       'order_delivered_customer_date', 'order_estimated_delivery_date',\n",
       "       'review_id', 'review_score', 'review_comment_title',\n",
       "       'review_comment_message', 'review_creation_date',\n",
       "       'review_answer_timestamp', 'order_item_id', 'product_id', 'seller_id',\n",
       "       'shipping_limit_date', 'price', 'freight_value',\n",
       "       'product_category_name', 'product_name_lenght',\n",
       "       'product_description_lenght', 'product_photos_qty', 'product_weight_g',\n",
       "       'product_length_cm', 'product_height_cm', 'product_width_cm',\n",
       "       'payment_sequential', 'payment_type', 'payment_installments',\n",
       "       'payment_value', 'seller_zip_code_prefix', 'seller_city',\n",
       "       'seller_state', 'product_category_name_english', 'product_category',\n",
       "       'latest_purchase_date', 'days_since_last_purchase',\n",
       "       'purchase_interval'],\n",
       "      dtype='object')"
      ]
     },
     "execution_count": 2,
     "metadata": {},
     "output_type": "execute_result"
    }
   ],
   "source": [
    "data= pd.read_csv('processed_data.csv')\n",
    "data.columns"
   ]
  },
  {
   "cell_type": "code",
   "execution_count": 3,
   "metadata": {},
   "outputs": [],
   "source": [
    "df = data[['customer_state', 'review_score', 'price', 'freight_value','payment_type', 'payment_installments',\n",
    "       'payment_value', 'seller_state', 'product_category','purchase_interval']]"
   ]
  },
  {
   "cell_type": "markdown",
   "metadata": {},
   "source": [
    "# Feature Engineering"
   ]
  },
  {
   "cell_type": "markdown",
   "metadata": {},
   "source": [
    "## Map the purchase_interval to 0/1 in a new columns 'Churned'"
   ]
  },
  {
   "cell_type": "code",
   "execution_count": 5,
   "metadata": {},
   "outputs": [
    {
     "name": "stderr",
     "output_type": "stream",
     "text": [
      "C:\\Users\\user1\\AppData\\Local\\Temp\\ipykernel_7740\\505116576.py:2: SettingWithCopyWarning: \n",
      "A value is trying to be set on a copy of a slice from a DataFrame.\n",
      "Try using .loc[row_indexer,col_indexer] = value instead\n",
      "\n",
      "See the caveats in the documentation: https://pandas.pydata.org/pandas-docs/stable/user_guide/indexing.html#returning-a-view-versus-a-copy\n",
      "  df['Churned'] = df['purchase_interval'].map(mapping)\n",
      "C:\\Users\\user1\\AppData\\Local\\Temp\\ipykernel_7740\\505116576.py:3: SettingWithCopyWarning: \n",
      "A value is trying to be set on a copy of a slice from a DataFrame\n",
      "\n",
      "See the caveats in the documentation: https://pandas.pydata.org/pandas-docs/stable/user_guide/indexing.html#returning-a-view-versus-a-copy\n",
      "  df.drop(columns=['purchase_interval'], inplace=True)\n"
     ]
    }
   ],
   "source": [
    "mapping = {'More than 1 year': 1, '6 months-1 year': 0, '3-6 months': 0, '1-3 month': 0, '0-30 days': 0}\n",
    "df['Churned'] = df['purchase_interval'].map(mapping)\n",
    "df.drop(columns=['purchase_interval'], inplace=True)"
   ]
  },
  {
   "cell_type": "markdown",
   "metadata": {},
   "source": [
    "## Customer_state: SP, MG, RJ, Others"
   ]
  },
  {
   "cell_type": "code",
   "execution_count": 6,
   "metadata": {},
   "outputs": [
    {
     "name": "stderr",
     "output_type": "stream",
     "text": [
      "C:\\Users\\user1\\AppData\\Local\\Temp\\ipykernel_7740\\2079533851.py:1: SettingWithCopyWarning: \n",
      "A value is trying to be set on a copy of a slice from a DataFrame.\n",
      "Try using .loc[row_indexer,col_indexer] = value instead\n",
      "\n",
      "See the caveats in the documentation: https://pandas.pydata.org/pandas-docs/stable/user_guide/indexing.html#returning-a-view-versus-a-copy\n",
      "  df['customer_state'] = df['customer_state'].apply(lambda x: x if x in ['SP', 'MG', 'RJ'] else 'Others')\n"
     ]
    }
   ],
   "source": [
    "df['customer_state'] = df['customer_state'].apply(lambda x: x if x in ['SP', 'MG', 'RJ'] else 'Others')"
   ]
  },
  {
   "cell_type": "markdown",
   "metadata": {},
   "source": [
    "## Seller_state: SP, MG, PR, Others"
   ]
  },
  {
   "cell_type": "code",
   "execution_count": 7,
   "metadata": {},
   "outputs": [
    {
     "data": {
      "text/plain": [
       "SP    82417\n",
       "MG     9014\n",
       "PR     8964\n",
       "RJ     4906\n",
       "SC     4221\n",
       "Name: seller_state, dtype: int64"
      ]
     },
     "execution_count": 7,
     "metadata": {},
     "output_type": "execute_result"
    }
   ],
   "source": [
    "df['seller_state'].value_counts().head(5)"
   ]
  },
  {
   "cell_type": "code",
   "execution_count": 8,
   "metadata": {},
   "outputs": [
    {
     "name": "stderr",
     "output_type": "stream",
     "text": [
      "C:\\Users\\user1\\AppData\\Local\\Temp\\ipykernel_7740\\1912853502.py:1: SettingWithCopyWarning: \n",
      "A value is trying to be set on a copy of a slice from a DataFrame.\n",
      "Try using .loc[row_indexer,col_indexer] = value instead\n",
      "\n",
      "See the caveats in the documentation: https://pandas.pydata.org/pandas-docs/stable/user_guide/indexing.html#returning-a-view-versus-a-copy\n",
      "  df['seller_state'] = df['seller_state'].apply(lambda x: x if x in ['SP', 'MG', 'PR'] else 'Others')\n"
     ]
    }
   ],
   "source": [
    "df['seller_state'] = df['seller_state'].apply(lambda x: x if x in ['SP', 'MG', 'PR'] else 'Others')"
   ]
  },
  {
   "cell_type": "markdown",
   "metadata": {},
   "source": [
    "# One-hot encode categorical variables"
   ]
  },
  {
   "cell_type": "code",
   "execution_count": 9,
   "metadata": {},
   "outputs": [],
   "source": [
    "columns_to_encode = ['customer_state', 'payment_type', 'seller_state', 'product_category']\n",
    "df_encoded = pd.get_dummies(df, columns=columns_to_encode)"
   ]
  },
  {
   "cell_type": "code",
   "execution_count": 10,
   "metadata": {},
   "outputs": [
    {
     "data": {
      "text/html": [
       "<div>\n",
       "<style scoped>\n",
       "    .dataframe tbody tr th:only-of-type {\n",
       "        vertical-align: middle;\n",
       "    }\n",
       "\n",
       "    .dataframe tbody tr th {\n",
       "        vertical-align: top;\n",
       "    }\n",
       "\n",
       "    .dataframe thead th {\n",
       "        text-align: right;\n",
       "    }\n",
       "</style>\n",
       "<table border=\"1\" class=\"dataframe\">\n",
       "  <thead>\n",
       "    <tr style=\"text-align: right;\">\n",
       "      <th></th>\n",
       "      <th>review_score</th>\n",
       "      <th>price</th>\n",
       "      <th>freight_value</th>\n",
       "      <th>payment_installments</th>\n",
       "      <th>payment_value</th>\n",
       "      <th>Churned</th>\n",
       "      <th>customer_state_MG</th>\n",
       "      <th>customer_state_Others</th>\n",
       "      <th>customer_state_RJ</th>\n",
       "      <th>customer_state_SP</th>\n",
       "      <th>...</th>\n",
       "      <th>seller_state_SP</th>\n",
       "      <th>product_category_Beauty &amp; Health</th>\n",
       "      <th>product_category_Books &amp; Stationery</th>\n",
       "      <th>product_category_Electronics</th>\n",
       "      <th>product_category_Entertainment</th>\n",
       "      <th>product_category_Fashion</th>\n",
       "      <th>product_category_Food &amp; Drinks</th>\n",
       "      <th>product_category_Furniture</th>\n",
       "      <th>product_category_Home &amp; Garden</th>\n",
       "      <th>product_category_Industry &amp; Construction</th>\n",
       "    </tr>\n",
       "  </thead>\n",
       "  <tbody>\n",
       "    <tr>\n",
       "      <th>0</th>\n",
       "      <td>4</td>\n",
       "      <td>124.99</td>\n",
       "      <td>21.88</td>\n",
       "      <td>2</td>\n",
       "      <td>146.87</td>\n",
       "      <td>1</td>\n",
       "      <td>0</td>\n",
       "      <td>0</td>\n",
       "      <td>0</td>\n",
       "      <td>1</td>\n",
       "      <td>...</td>\n",
       "      <td>1</td>\n",
       "      <td>0</td>\n",
       "      <td>0</td>\n",
       "      <td>0</td>\n",
       "      <td>0</td>\n",
       "      <td>0</td>\n",
       "      <td>0</td>\n",
       "      <td>1</td>\n",
       "      <td>0</td>\n",
       "      <td>0</td>\n",
       "    </tr>\n",
       "    <tr>\n",
       "      <th>1</th>\n",
       "      <td>1</td>\n",
       "      <td>112.99</td>\n",
       "      <td>24.90</td>\n",
       "      <td>1</td>\n",
       "      <td>275.79</td>\n",
       "      <td>0</td>\n",
       "      <td>0</td>\n",
       "      <td>1</td>\n",
       "      <td>0</td>\n",
       "      <td>0</td>\n",
       "      <td>...</td>\n",
       "      <td>1</td>\n",
       "      <td>0</td>\n",
       "      <td>0</td>\n",
       "      <td>0</td>\n",
       "      <td>0</td>\n",
       "      <td>0</td>\n",
       "      <td>0</td>\n",
       "      <td>1</td>\n",
       "      <td>0</td>\n",
       "      <td>0</td>\n",
       "    </tr>\n",
       "    <tr>\n",
       "      <th>2</th>\n",
       "      <td>1</td>\n",
       "      <td>112.99</td>\n",
       "      <td>24.90</td>\n",
       "      <td>1</td>\n",
       "      <td>275.79</td>\n",
       "      <td>0</td>\n",
       "      <td>0</td>\n",
       "      <td>1</td>\n",
       "      <td>0</td>\n",
       "      <td>0</td>\n",
       "      <td>...</td>\n",
       "      <td>1</td>\n",
       "      <td>0</td>\n",
       "      <td>0</td>\n",
       "      <td>0</td>\n",
       "      <td>0</td>\n",
       "      <td>0</td>\n",
       "      <td>0</td>\n",
       "      <td>1</td>\n",
       "      <td>0</td>\n",
       "      <td>0</td>\n",
       "    </tr>\n",
       "    <tr>\n",
       "      <th>3</th>\n",
       "      <td>3</td>\n",
       "      <td>124.99</td>\n",
       "      <td>15.62</td>\n",
       "      <td>7</td>\n",
       "      <td>140.61</td>\n",
       "      <td>1</td>\n",
       "      <td>0</td>\n",
       "      <td>1</td>\n",
       "      <td>0</td>\n",
       "      <td>0</td>\n",
       "      <td>...</td>\n",
       "      <td>1</td>\n",
       "      <td>0</td>\n",
       "      <td>0</td>\n",
       "      <td>0</td>\n",
       "      <td>0</td>\n",
       "      <td>0</td>\n",
       "      <td>0</td>\n",
       "      <td>1</td>\n",
       "      <td>0</td>\n",
       "      <td>0</td>\n",
       "    </tr>\n",
       "    <tr>\n",
       "      <th>4</th>\n",
       "      <td>4</td>\n",
       "      <td>106.99</td>\n",
       "      <td>30.59</td>\n",
       "      <td>10</td>\n",
       "      <td>137.58</td>\n",
       "      <td>0</td>\n",
       "      <td>0</td>\n",
       "      <td>0</td>\n",
       "      <td>1</td>\n",
       "      <td>0</td>\n",
       "      <td>...</td>\n",
       "      <td>1</td>\n",
       "      <td>0</td>\n",
       "      <td>0</td>\n",
       "      <td>0</td>\n",
       "      <td>0</td>\n",
       "      <td>0</td>\n",
       "      <td>0</td>\n",
       "      <td>1</td>\n",
       "      <td>0</td>\n",
       "      <td>0</td>\n",
       "    </tr>\n",
       "    <tr>\n",
       "      <th>...</th>\n",
       "      <td>...</td>\n",
       "      <td>...</td>\n",
       "      <td>...</td>\n",
       "      <td>...</td>\n",
       "      <td>...</td>\n",
       "      <td>...</td>\n",
       "      <td>...</td>\n",
       "      <td>...</td>\n",
       "      <td>...</td>\n",
       "      <td>...</td>\n",
       "      <td>...</td>\n",
       "      <td>...</td>\n",
       "      <td>...</td>\n",
       "      <td>...</td>\n",
       "      <td>...</td>\n",
       "      <td>...</td>\n",
       "      <td>...</td>\n",
       "      <td>...</td>\n",
       "      <td>...</td>\n",
       "      <td>...</td>\n",
       "      <td>...</td>\n",
       "    </tr>\n",
       "    <tr>\n",
       "      <th>115604</th>\n",
       "      <td>5</td>\n",
       "      <td>193.00</td>\n",
       "      <td>39.19</td>\n",
       "      <td>10</td>\n",
       "      <td>232.19</td>\n",
       "      <td>1</td>\n",
       "      <td>0</td>\n",
       "      <td>1</td>\n",
       "      <td>0</td>\n",
       "      <td>0</td>\n",
       "      <td>...</td>\n",
       "      <td>0</td>\n",
       "      <td>0</td>\n",
       "      <td>0</td>\n",
       "      <td>0</td>\n",
       "      <td>0</td>\n",
       "      <td>0</td>\n",
       "      <td>0</td>\n",
       "      <td>0</td>\n",
       "      <td>1</td>\n",
       "      <td>0</td>\n",
       "    </tr>\n",
       "    <tr>\n",
       "      <th>115605</th>\n",
       "      <td>4</td>\n",
       "      <td>389.00</td>\n",
       "      <td>37.70</td>\n",
       "      <td>8</td>\n",
       "      <td>426.70</td>\n",
       "      <td>0</td>\n",
       "      <td>0</td>\n",
       "      <td>1</td>\n",
       "      <td>0</td>\n",
       "      <td>0</td>\n",
       "      <td>...</td>\n",
       "      <td>0</td>\n",
       "      <td>0</td>\n",
       "      <td>0</td>\n",
       "      <td>0</td>\n",
       "      <td>0</td>\n",
       "      <td>0</td>\n",
       "      <td>0</td>\n",
       "      <td>0</td>\n",
       "      <td>1</td>\n",
       "      <td>0</td>\n",
       "    </tr>\n",
       "    <tr>\n",
       "      <th>115606</th>\n",
       "      <td>5</td>\n",
       "      <td>139.00</td>\n",
       "      <td>21.46</td>\n",
       "      <td>3</td>\n",
       "      <td>160.46</td>\n",
       "      <td>1</td>\n",
       "      <td>0</td>\n",
       "      <td>0</td>\n",
       "      <td>0</td>\n",
       "      <td>1</td>\n",
       "      <td>...</td>\n",
       "      <td>0</td>\n",
       "      <td>0</td>\n",
       "      <td>0</td>\n",
       "      <td>0</td>\n",
       "      <td>0</td>\n",
       "      <td>0</td>\n",
       "      <td>0</td>\n",
       "      <td>0</td>\n",
       "      <td>1</td>\n",
       "      <td>0</td>\n",
       "    </tr>\n",
       "    <tr>\n",
       "      <th>115607</th>\n",
       "      <td>5</td>\n",
       "      <td>129.00</td>\n",
       "      <td>26.18</td>\n",
       "      <td>2</td>\n",
       "      <td>55.18</td>\n",
       "      <td>1</td>\n",
       "      <td>1</td>\n",
       "      <td>0</td>\n",
       "      <td>0</td>\n",
       "      <td>0</td>\n",
       "      <td>...</td>\n",
       "      <td>0</td>\n",
       "      <td>0</td>\n",
       "      <td>0</td>\n",
       "      <td>0</td>\n",
       "      <td>0</td>\n",
       "      <td>0</td>\n",
       "      <td>0</td>\n",
       "      <td>0</td>\n",
       "      <td>1</td>\n",
       "      <td>0</td>\n",
       "    </tr>\n",
       "    <tr>\n",
       "      <th>115608</th>\n",
       "      <td>5</td>\n",
       "      <td>129.00</td>\n",
       "      <td>26.18</td>\n",
       "      <td>1</td>\n",
       "      <td>100.00</td>\n",
       "      <td>1</td>\n",
       "      <td>1</td>\n",
       "      <td>0</td>\n",
       "      <td>0</td>\n",
       "      <td>0</td>\n",
       "      <td>...</td>\n",
       "      <td>0</td>\n",
       "      <td>0</td>\n",
       "      <td>0</td>\n",
       "      <td>0</td>\n",
       "      <td>0</td>\n",
       "      <td>0</td>\n",
       "      <td>0</td>\n",
       "      <td>0</td>\n",
       "      <td>1</td>\n",
       "      <td>0</td>\n",
       "    </tr>\n",
       "  </tbody>\n",
       "</table>\n",
       "<p>115609 rows × 27 columns</p>\n",
       "</div>"
      ],
      "text/plain": [
       "        review_score   price  freight_value  payment_installments  \\\n",
       "0                  4  124.99          21.88                     2   \n",
       "1                  1  112.99          24.90                     1   \n",
       "2                  1  112.99          24.90                     1   \n",
       "3                  3  124.99          15.62                     7   \n",
       "4                  4  106.99          30.59                    10   \n",
       "...              ...     ...            ...                   ...   \n",
       "115604             5  193.00          39.19                    10   \n",
       "115605             4  389.00          37.70                     8   \n",
       "115606             5  139.00          21.46                     3   \n",
       "115607             5  129.00          26.18                     2   \n",
       "115608             5  129.00          26.18                     1   \n",
       "\n",
       "        payment_value  Churned  customer_state_MG  customer_state_Others  \\\n",
       "0              146.87        1                  0                      0   \n",
       "1              275.79        0                  0                      1   \n",
       "2              275.79        0                  0                      1   \n",
       "3              140.61        1                  0                      1   \n",
       "4              137.58        0                  0                      0   \n",
       "...               ...      ...                ...                    ...   \n",
       "115604         232.19        1                  0                      1   \n",
       "115605         426.70        0                  0                      1   \n",
       "115606         160.46        1                  0                      0   \n",
       "115607          55.18        1                  1                      0   \n",
       "115608         100.00        1                  1                      0   \n",
       "\n",
       "        customer_state_RJ  customer_state_SP  ...  seller_state_SP  \\\n",
       "0                       0                  1  ...                1   \n",
       "1                       0                  0  ...                1   \n",
       "2                       0                  0  ...                1   \n",
       "3                       0                  0  ...                1   \n",
       "4                       1                  0  ...                1   \n",
       "...                   ...                ...  ...              ...   \n",
       "115604                  0                  0  ...                0   \n",
       "115605                  0                  0  ...                0   \n",
       "115606                  0                  1  ...                0   \n",
       "115607                  0                  0  ...                0   \n",
       "115608                  0                  0  ...                0   \n",
       "\n",
       "        product_category_Beauty & Health  product_category_Books & Stationery  \\\n",
       "0                                      0                                    0   \n",
       "1                                      0                                    0   \n",
       "2                                      0                                    0   \n",
       "3                                      0                                    0   \n",
       "4                                      0                                    0   \n",
       "...                                  ...                                  ...   \n",
       "115604                                 0                                    0   \n",
       "115605                                 0                                    0   \n",
       "115606                                 0                                    0   \n",
       "115607                                 0                                    0   \n",
       "115608                                 0                                    0   \n",
       "\n",
       "        product_category_Electronics  product_category_Entertainment  \\\n",
       "0                                  0                               0   \n",
       "1                                  0                               0   \n",
       "2                                  0                               0   \n",
       "3                                  0                               0   \n",
       "4                                  0                               0   \n",
       "...                              ...                             ...   \n",
       "115604                             0                               0   \n",
       "115605                             0                               0   \n",
       "115606                             0                               0   \n",
       "115607                             0                               0   \n",
       "115608                             0                               0   \n",
       "\n",
       "        product_category_Fashion  product_category_Food & Drinks  \\\n",
       "0                              0                               0   \n",
       "1                              0                               0   \n",
       "2                              0                               0   \n",
       "3                              0                               0   \n",
       "4                              0                               0   \n",
       "...                          ...                             ...   \n",
       "115604                         0                               0   \n",
       "115605                         0                               0   \n",
       "115606                         0                               0   \n",
       "115607                         0                               0   \n",
       "115608                         0                               0   \n",
       "\n",
       "        product_category_Furniture  product_category_Home & Garden  \\\n",
       "0                                1                               0   \n",
       "1                                1                               0   \n",
       "2                                1                               0   \n",
       "3                                1                               0   \n",
       "4                                1                               0   \n",
       "...                            ...                             ...   \n",
       "115604                           0                               1   \n",
       "115605                           0                               1   \n",
       "115606                           0                               1   \n",
       "115607                           0                               1   \n",
       "115608                           0                               1   \n",
       "\n",
       "        product_category_Industry & Construction  \n",
       "0                                              0  \n",
       "1                                              0  \n",
       "2                                              0  \n",
       "3                                              0  \n",
       "4                                              0  \n",
       "...                                          ...  \n",
       "115604                                         0  \n",
       "115605                                         0  \n",
       "115606                                         0  \n",
       "115607                                         0  \n",
       "115608                                         0  \n",
       "\n",
       "[115609 rows x 27 columns]"
      ]
     },
     "execution_count": 10,
     "metadata": {},
     "output_type": "execute_result"
    }
   ],
   "source": [
    "df_encoded"
   ]
  },
  {
   "cell_type": "markdown",
   "metadata": {},
   "source": [
    "# Train test split"
   ]
  },
  {
   "cell_type": "code",
   "execution_count": 12,
   "metadata": {},
   "outputs": [
    {
     "name": "stdout",
     "output_type": "stream",
     "text": [
      "Training set - Features: (92487, 26)  Target: (92487,)\n",
      "Testing set - Features: (23122, 26)  Target: (23122,)\n"
     ]
    }
   ],
   "source": [
    "X = df_encoded.drop(columns=['Churned'])\n",
    "y = df_encoded['Churned']  \n",
    "\n",
    "X_train, X_test, y_train, y_test = train_test_split(X, y, test_size=0.2, random_state=42) \n",
    "print(\"Training set - Features:\", X_train.shape, \" Target:\", y_train.shape)\n",
    "print(\"Testing set - Features:\", X_test.shape, \" Target:\", y_test.shape)"
   ]
  },
  {
   "cell_type": "code",
   "execution_count": 21,
   "metadata": {},
   "outputs": [
    {
     "data": {
      "image/png": "[encoded data removed]",
      "text/plain": [
       "<Figure size 1000x500 with 2 Axes>"
      ]
     },
     "metadata": {},
     "output_type": "display_data"
    }
   ],
   "source": [
    "train_value_counts = y_train.value_counts()\n",
    "test_value_counts = y_test.value_counts()\n",
    "\n",
    "fig, axs = plt.subplots(1, 2, figsize=(10, 5))\n",
    "\n",
    "axs[0].bar(train_value_counts.index, train_value_counts.values)\n",
    "axs[0].set_title('Value Counts for y_train')\n",
    "axs[0].set_xlabel('Class')\n",
    "axs[0].set_ylabel('Count')\n",
    "\n",
    "axs[1].bar(test_value_counts.index, test_value_counts.values)\n",
    "axs[1].set_title('Value Counts for y_test')\n",
    "axs[1].set_xlabel('Class')\n",
    "axs[1].set_ylabel('Count')\n",
    "\n",
    "plt.tight_layout()\n",
    "plt.show()"
   ]
  },
  {
   "cell_type": "markdown",
   "metadata": {},
   "source": [
    "# Standardise numberical variables"
   ]
  },
  {
   "cell_type": "code",
   "execution_count": 13,
   "metadata": {},
   "outputs": [],
   "source": [
    "numerical_columns = ['review_score', 'price', 'freight_value', 'payment_installments', 'payment_value']\n",
    "\n",
    "scaler = StandardScaler()\n",
    "\n",
    "X_train[numerical_columns] = scaler.fit_transform(X_train[numerical_columns])\n",
    "X_test[numerical_columns] = scaler.transform(X_test[numerical_columns])\n",
    "\n",
    "X_val, X_test, y_val, y_test = train_test_split(X_test, y_test, test_size=0.5, random_state=42) "
   ]
  },
  {
   "cell_type": "code",
   "execution_count": 14,
   "metadata": {},
   "outputs": [
    {
     "data": {
      "text/plain": [
       "Index(['review_score', 'price', 'freight_value', 'payment_installments',\n",
       "       'payment_value', 'customer_state_MG', 'customer_state_Others',\n",
       "       'customer_state_RJ', 'customer_state_SP', 'payment_type_boleto',\n",
       "       'payment_type_credit_card', 'payment_type_debit_card',\n",
       "       'payment_type_voucher', 'seller_state_MG', 'seller_state_Others',\n",
       "       'seller_state_PR', 'seller_state_SP',\n",
       "       'product_category_Beauty & Health',\n",
       "       'product_category_Books & Stationery', 'product_category_Electronics',\n",
       "       'product_category_Entertainment', 'product_category_Fashion',\n",
       "       'product_category_Food & Drinks', 'product_category_Furniture',\n",
       "       'product_category_Home & Garden',\n",
       "       'product_category_Industry & Construction'],\n",
       "      dtype='object')"
      ]
     },
     "execution_count": 14,
     "metadata": {},
     "output_type": "execute_result"
    }
   ],
   "source": [
    "X_train.columns"
   ]
  },
  {
   "cell_type": "markdown",
   "metadata": {},
   "source": [
    "# Logistic Regression"
   ]
  },
  {
   "cell_type": "markdown",
   "metadata": {},
   "source": [
    "## Drop one dummy variable for each category to avoid multicollinearity"
   ]
  },
  {
   "cell_type": "code",
   "execution_count": 15,
   "metadata": {},
   "outputs": [],
   "source": [
    "columns_to_drop = ['customer_state_Others', 'payment_type_voucher', 'seller_state_Others', 'product_category_Home & Garden']\n",
    "X_train = X_train.drop(columns_to_drop, axis=1)\n",
    "X_test = X_test.drop(columns_to_drop, axis=1)"
   ]
  },
  {
   "cell_type": "code",
   "execution_count": 26,
   "metadata": {},
   "outputs": [
    {
     "name": "stdout",
     "output_type": "stream",
     "text": [
      "Optimization terminated successfully.\n",
      "         Current function value: 0.544887\n",
      "         Iterations 7\n",
      "                           Logit Regression Results                           \n",
      "==============================================================================\n",
      "Dep. Variable:                Churned   No. Observations:                92487\n",
      "Model:                          Logit   Df Residuals:                    92464\n",
      "Method:                           MLE   Df Model:                           22\n",
      "Date:                Wed, 10 Apr 2024   Pseudo R-squ.:                 0.02218\n",
      "Time:                        15:36:32   Log-Likelihood:                -50395.\n",
      "converged:                       True   LL-Null:                       -51538.\n",
      "Covariance Type:            nonrobust   LLR p-value:                     0.000\n",
      "============================================================================================================\n",
      "                                               coef    std err          z      P>|z|      [0.025      0.975]\n",
      "------------------------------------------------------------------------------------------------------------\n",
      "const                                       -0.4676      0.045    -10.450      0.000      -0.555      -0.380\n",
      "review_score                                 0.0847      0.008     10.521      0.000       0.069       0.100\n",
      "price                                        0.1414      0.014      9.845      0.000       0.113       0.169\n",
      "freight_value                               -0.1615      0.011    -14.908      0.000      -0.183      -0.140\n",
      "payment_installments                         0.1640      0.009     18.436      0.000       0.147       0.181\n",
      "payment_value                               -0.1437      0.017     -8.229      0.000      -0.178      -0.109\n",
      "customer_state_MG                           -0.1538      0.026     -5.810      0.000      -0.206      -0.102\n",
      "customer_state_RJ                           -0.0581      0.025     -2.307      0.021      -0.108      -0.009\n",
      "customer_state_SP                           -0.2424      0.019    -12.756      0.000      -0.280      -0.205\n",
      "payment_type_boleto                         -0.2080      0.036     -5.777      0.000      -0.279      -0.137\n",
      "payment_type_credit_card                    -0.5091      0.034    -15.109      0.000      -0.575      -0.443\n",
      "payment_type_debit_card                     -0.9103      0.083    -10.939      0.000      -1.073      -0.747\n",
      "seller_state_MG                              0.3838      0.034     11.346      0.000       0.317       0.450\n",
      "seller_state_PR                             -0.0423      0.036     -1.186      0.236      -0.112       0.028\n",
      "seller_state_SP                             -0.0535      0.024     -2.243      0.025      -0.100      -0.007\n",
      "product_category_Beauty & Health            -0.2224      0.032     -6.865      0.000      -0.286      -0.159\n",
      "product_category_Books & Stationery         -0.5700      0.055    -10.363      0.000      -0.678      -0.462\n",
      "product_category_Electronics                -0.2779      0.028    -10.067      0.000      -0.332      -0.224\n",
      "product_category_Entertainment              -0.0205      0.032     -0.650      0.516      -0.082       0.041\n",
      "product_category_Fashion                     0.1806      0.033      5.424      0.000       0.115       0.246\n",
      "product_category_Food & Drinks              -0.9746      0.105     -9.307      0.000      -1.180      -0.769\n",
      "product_category_Furniture                   0.0559      0.027      2.059      0.039       0.003       0.109\n",
      "product_category_Industry & Construction    -2.0517      0.135    -15.156      0.000      -2.317      -1.786\n",
      "============================================================================================================\n"
     ]
    }
   ],
   "source": [
    "X_train = sm.add_constant(X_train)\n",
    "logit_model = sm.Logit(y_train, X_train)\n",
    "result = logit_model.fit()\n",
    "print(result.summary())"
   ]
  },
  {
   "cell_type": "code",
   "execution_count": 30,
   "metadata": {},
   "outputs": [
    {
     "name": "stdout",
     "output_type": "stream",
     "text": [
      "              precision    recall  f1-score   support\n",
      "\n",
      "           0       0.76      1.00      0.86     17565\n",
      "           1       0.50      0.00      0.00      5557\n",
      "\n",
      "    accuracy                           0.76     23122\n",
      "   macro avg       0.63      0.50      0.43     23122\n",
      "weighted avg       0.70      0.76      0.66     23122\n",
      "\n",
      "F1: 0.6562365779450458\n"
     ]
    }
   ],
   "source": [
    "X_test = sm.add_constant(X_test)\n",
    "y_pred_probs = result.predict(X_test)\n",
    "y_pred_binary = [1 if prob > 0.5 else 0 for prob in y_pred_probs]\n",
    "print(classification_report(y_test, y_pred_binary))\n",
    "f1 = f1_score(y_test, y_pred_binary, average='weighted')\n",
    "print(\"F1:\", f1)"
   ]
  },
  {
   "cell_type": "code",
   "execution_count": 28,
   "metadata": {},
   "outputs": [
    {
     "data": {
      "image/png": "[encoded data removed]",
      "text/plain": [
       "<Figure size 800x600 with 1 Axes>"
      ]
     },
     "metadata": {},
     "output_type": "display_data"
    }
   ],
   "source": [
    "conf_matrix = confusion_matrix(y_test, y_pred_binary)\n",
    "\n",
    "plt.figure(figsize=(8, 6))\n",
    "sns.heatmap(conf_matrix, annot=True, fmt='d', cmap='Blues', cbar=False)\n",
    "plt.xlabel('Predicted labels')\n",
    "plt.ylabel('True labels')\n",
    "plt.title('Confusion Matrix')\n",
    "plt.show()"
   ]
  },
  {
   "cell_type": "markdown",
   "metadata": {},
   "source": [
    "# Random Forest"
   ]
  },
  {
   "cell_type": "code",
   "execution_count": 31,
   "metadata": {},
   "outputs": [
    {
     "name": "stdout",
     "output_type": "stream",
     "text": [
      "Training Accuracy: 0.9924746180544293\n",
      "Testing Accuracy: 0.8241934088746649\n"
     ]
    }
   ],
   "source": [
    "rf_classifier = RandomForestClassifier(random_state=10)\n",
    "rf_classifier.fit(X_train, y_train)\n",
    "train_accuracy = rf_classifier.score(X_train, y_train)\n",
    "print(\"Training Accuracy:\", train_accuracy)\n",
    "test_accuracy = rf_classifier.score(X_test, y_test)\n",
    "print(\"Testing Accuracy:\", test_accuracy)"
   ]
  },
  {
   "cell_type": "code",
   "execution_count": 32,
   "metadata": {},
   "outputs": [
    {
     "name": "stdout",
     "output_type": "stream",
     "text": [
      "              precision    recall  f1-score   support\n",
      "\n",
      "           0       0.84      0.95      0.89     17565\n",
      "           1       0.73      0.42      0.54      5557\n",
      "\n",
      "    accuracy                           0.82     23122\n",
      "   macro avg       0.79      0.69      0.71     23122\n",
      "weighted avg       0.81      0.82      0.81     23122\n",
      "\n",
      "F1: 0.8062289231257497\n"
     ]
    }
   ],
   "source": [
    "predicted_y = rf_classifier.predict(X_test)\n",
    "y_pred_binary = [1 if prob > 0.5 else 0 for prob in predicted_y]\n",
    "print(classification_report(y_test, y_pred_binary))\n",
    "f1 = f1_score(y_test, y_pred_binary, average='weighted')\n",
    "print(\"F1:\", f1)"
   ]
  },
  {
   "cell_type": "code",
   "execution_count": 35,
   "metadata": {},
   "outputs": [
    {
     "data": {
      "image/png": "[encoded data removed]",
      "text/plain": [
       "<Figure size 800x600 with 1 Axes>"
      ]
     },
     "metadata": {},
     "output_type": "display_data"
    }
   ],
   "source": [
    "conf_matrix = confusion_matrix(y_test, y_pred_binary)\n",
    "\n",
    "plt.figure(figsize=(8, 6))\n",
    "sns.heatmap(conf_matrix, annot=True, fmt='d', cmap='Blues', cbar=False)\n",
    "plt.xlabel('Predicted labels')\n",
    "plt.ylabel('True labels')\n",
    "plt.title('Confusion Matrix')\n",
    "plt.show()"
   ]
  },
  {
   "cell_type": "code",
   "execution_count": 34,
   "metadata": {},
   "outputs": [
    {
     "data": {
      "image/png": "[encoded data removed]",
      "text/plain": [
       "<Figure size 640x480 with 1 Axes>"
      ]
     },
     "metadata": {},
     "output_type": "display_data"
    }
   ],
   "source": [
    "feature_importances = pd.DataFrame(rf_classifier.feature_importances_)\n",
    "feature_importances[\"Feature\"] = X_train.columns\n",
    "sns.barplot(x=0, y='Feature', data=feature_importances.sort_values(by=0,ascending=False)[:5])\n",
    "plt.show()"
   ]
  },
  {
   "cell_type": "markdown",
   "metadata": {},
   "source": [
    "# SVM"
   ]
  },
  {
   "cell_type": "code",
   "execution_count": 38,
   "metadata": {},
   "outputs": [
    {
     "name": "stdout",
     "output_type": "stream",
     "text": [
      "Training Accuracy: 0.7570253116654232\n",
      "Testing Accuracy: 0.7611365798806332\n",
      "              precision    recall  f1-score   support\n",
      "\n",
      "           0       0.76      1.00      0.86     17565\n",
      "           1       0.85      0.01      0.01      5557\n",
      "\n",
      "    accuracy                           0.76     23122\n",
      "   macro avg       0.81      0.50      0.44     23122\n",
      "weighted avg       0.78      0.76      0.66     23122\n",
      "\n",
      "Area under the curve: 0.5034897809575488\n"
     ]
    }
   ],
   "source": [
    "#Baseline SVM default: rbf, C = 1.0\n",
    "svc = SVC(probability=True, random_state=42)\n",
    "svc.fit(X_train, y_train)\n",
    "train_accuracy = svc.score(X_train, y_train)\n",
    "print(\"Training Accuracy:\", train_accuracy)\n",
    "test_accuracy = svc.score(X_test, y_test)\n",
    "print(\"Testing Accuracy:\", test_accuracy)\n",
    "print(classification_report(y_test, svc.predict(X_test)))\n",
    "\n",
    "fpr, tpr, thresholds = roc_curve(y_test, svc.predict(X_test))\n",
    "roc_auc = auc(fpr, tpr)\n",
    "print(\"Area under the curve:\", roc_auc)"
   ]
  },
  {
   "cell_type": "markdown",
   "metadata": {},
   "source": [
    "## Fine-tuning\n",
    "\n",
    "I did not run the code in this section, becuase the svm baseline model alone took 2 hours. Perhaps we should delegate this task to Airflow."
   ]
  },
  {
   "cell_type": "code",
   "execution_count": null,
   "metadata": {},
   "outputs": [],
   "source": [
    "#Grid-search for parameter tuning\n",
    "kernel = ['linear','rbf','poly','sigmoid']\n",
    "C = [0.1, 1, 10]\n",
    "\n",
    "for k in kernel: \n",
    "    for c in C:\n",
    "        svc = SVC(kernel=k, probability=True, random_state=42, C=c)\n",
    "        svc.fit(X_train, y_train)\n",
    "        print(\"kernal: \", k)\n",
    "        print(\"C: \", c)\n",
    "\n",
    "        train_accuracy = svc.score(X_train, y_train)\n",
    "        print(\"Training Accuracy:\", train_accuracy)\n",
    "        val_accuracy = svc.score(X_val, y_val)\n",
    "        print(\"Validation Accuracy:\", val_accuracy)\n",
    "        print(classification_report(y_val, svc.predict(X_val)))\n",
    "        \n",
    "        fpr, tpr, thresholds = roc_curve(y_val, svc.predict(X_val))\n",
    "        roc_auc = auc(fpr, tpr)\n",
    "        print(\"Area under the curve:\", auc)"
   ]
  },
  {
   "cell_type": "markdown",
   "metadata": {},
   "source": [
    "# Neural Network"
   ]
  },
  {
   "cell_type": "code",
   "execution_count": 41,
   "metadata": {},
   "outputs": [],
   "source": [
    "import tensorflow as tf\n",
    "from tensorflow import keras\n",
    "from tensorflow.keras.layers import Activation, Dense, Dropout\n",
    "from tensorflow.keras.models import Sequential, load_model\n",
    "from tensorflow.keras.callbacks import EarlyStopping, ModelCheckpoint\n",
    "from tensorflow.keras import regularizers"
   ]
  },
  {
   "cell_type": "code",
   "execution_count": 45,
   "metadata": {},
   "outputs": [
    {
     "name": "stdout",
     "output_type": "stream",
     "text": [
      "Epoch 1/100\n"
     ]
    },
    {
     "name": "stderr",
     "output_type": "stream",
     "text": [
      "c:\\Users\\user1\\AppData\\Local\\Programs\\Python\\Python311\\Lib\\site-packages\\keras\\src\\layers\\core\\dense.py:86: UserWarning: Do not pass an `input_shape`/`input_dim` argument to a layer. When using Sequential models, prefer using an `Input(shape)` object as the first layer in the model instead.\n",
      "  super().__init__(activity_regularizer=activity_regularizer, **kwargs)\n"
     ]
    },
    {
     "name": "stdout",
     "output_type": "stream",
     "text": [
      "\u001b[1m2891/2891\u001b[0m \u001b[32m━━━━━━━━━━━━━━━━━━━━\u001b[0m\u001b[37m\u001b[0m \u001b[1m3s\u001b[0m 681us/step - accuracy: 0.7519 - loss: 0.5517 - val_accuracy: 0.7593 - val_loss: 0.5357\n",
      "Epoch 2/100\n",
      "\u001b[1m2891/2891\u001b[0m \u001b[32m━━━━━━━━━━━━━━━━━━━━\u001b[0m\u001b[37m\u001b[0m \u001b[1m2s\u001b[0m 650us/step - accuracy: 0.7541 - loss: 0.5398 - val_accuracy: 0.7607 - val_loss: 0.5291\n",
      "Epoch 3/100\n",
      "\u001b[1m2891/2891\u001b[0m \u001b[32m━━━━━━━━━━━━━━━━━━━━\u001b[0m\u001b[37m\u001b[0m \u001b[1m2s\u001b[0m 627us/step - accuracy: 0.7581 - loss: 0.5299 - val_accuracy: 0.7607 - val_loss: 0.5221\n",
      "Epoch 4/100\n",
      "\u001b[1m2891/2891\u001b[0m \u001b[32m━━━━━━━━━━━━━━━━━━━━\u001b[0m\u001b[37m\u001b[0m \u001b[1m2s\u001b[0m 638us/step - accuracy: 0.7573 - loss: 0.5220 - val_accuracy: 0.7604 - val_loss: 0.5192\n",
      "Epoch 5/100\n",
      "\u001b[1m2891/2891\u001b[0m \u001b[32m━━━━━━━━━━━━━━━━━━━━\u001b[0m\u001b[37m\u001b[0m \u001b[1m2s\u001b[0m 653us/step - accuracy: 0.7613 - loss: 0.5120 - val_accuracy: 0.7638 - val_loss: 0.5120\n",
      "Epoch 6/100\n",
      "\u001b[1m2891/2891\u001b[0m \u001b[32m━━━━━━━━━━━━━━━━━━━━\u001b[0m\u001b[37m\u001b[0m \u001b[1m2s\u001b[0m 660us/step - accuracy: 0.7607 - loss: 0.5114 - val_accuracy: 0.7611 - val_loss: 0.5169\n",
      "Epoch 7/100\n",
      "\u001b[1m2891/2891\u001b[0m \u001b[32m━━━━━━━━━━━━━━━━━━━━\u001b[0m\u001b[37m\u001b[0m \u001b[1m2s\u001b[0m 654us/step - accuracy: 0.7648 - loss: 0.5055 - val_accuracy: 0.7650 - val_loss: 0.5089\n",
      "Epoch 8/100\n",
      "\u001b[1m2891/2891\u001b[0m \u001b[32m━━━━━━━━━━━━━━━━━━━━\u001b[0m\u001b[37m\u001b[0m \u001b[1m2s\u001b[0m 650us/step - accuracy: 0.7619 - loss: 0.5065 - val_accuracy: 0.7598 - val_loss: 0.5223\n",
      "Epoch 9/100\n",
      "\u001b[1m2891/2891\u001b[0m \u001b[32m━━━━━━━━━━━━━━━━━━━━\u001b[0m\u001b[37m\u001b[0m \u001b[1m2s\u001b[0m 664us/step - accuracy: 0.7657 - loss: 0.4972 - val_accuracy: 0.7652 - val_loss: 0.5066\n",
      "Epoch 10/100\n",
      "\u001b[1m2891/2891\u001b[0m \u001b[32m━━━━━━━━━━━━━━━━━━━━\u001b[0m\u001b[37m\u001b[0m \u001b[1m2s\u001b[0m 644us/step - accuracy: 0.7681 - loss: 0.4952 - val_accuracy: 0.7617 - val_loss: 0.5091\n",
      "Epoch 11/100\n",
      "\u001b[1m2891/2891\u001b[0m \u001b[32m━━━━━━━━━━━━━━━━━━━━\u001b[0m\u001b[37m\u001b[0m \u001b[1m2s\u001b[0m 644us/step - accuracy: 0.7693 - loss: 0.4900 - val_accuracy: 0.7689 - val_loss: 0.5036\n",
      "Epoch 12/100\n",
      "\u001b[1m2891/2891\u001b[0m \u001b[32m━━━━━━━━━━━━━━━━━━━━\u001b[0m\u001b[37m\u001b[0m \u001b[1m2s\u001b[0m 628us/step - accuracy: 0.7680 - loss: 0.4899 - val_accuracy: 0.7704 - val_loss: 0.5015\n",
      "Epoch 13/100\n",
      "\u001b[1m2891/2891\u001b[0m \u001b[32m━━━━━━━━━━━━━━━━━━━━\u001b[0m\u001b[37m\u001b[0m \u001b[1m2s\u001b[0m 656us/step - accuracy: 0.7707 - loss: 0.4867 - val_accuracy: 0.7674 - val_loss: 0.5045\n",
      "Epoch 14/100\n",
      "\u001b[1m2891/2891\u001b[0m \u001b[32m━━━━━━━━━━━━━━━━━━━━\u001b[0m\u001b[37m\u001b[0m \u001b[1m2s\u001b[0m 640us/step - accuracy: 0.7732 - loss: 0.4840 - val_accuracy: 0.7685 - val_loss: 0.5042\n",
      "Epoch 15/100\n",
      "\u001b[1m2891/2891\u001b[0m \u001b[32m━━━━━━━━━━━━━━━━━━━━\u001b[0m\u001b[37m\u001b[0m \u001b[1m2s\u001b[0m 629us/step - accuracy: 0.7736 - loss: 0.4798 - val_accuracy: 0.7691 - val_loss: 0.4996\n",
      "Epoch 16/100\n",
      "\u001b[1m2891/2891\u001b[0m \u001b[32m━━━━━━━━━━━━━━━━━━━━\u001b[0m\u001b[37m\u001b[0m \u001b[1m2s\u001b[0m 635us/step - accuracy: 0.7753 - loss: 0.4781 - val_accuracy: 0.7684 - val_loss: 0.4979\n",
      "Epoch 17/100\n",
      "\u001b[1m2891/2891\u001b[0m \u001b[32m━━━━━━━━━━━━━━━━━━━━\u001b[0m\u001b[37m\u001b[0m \u001b[1m2s\u001b[0m 630us/step - accuracy: 0.7745 - loss: 0.4793 - val_accuracy: 0.7697 - val_loss: 0.5023\n",
      "Epoch 18/100\n",
      "\u001b[1m2891/2891\u001b[0m \u001b[32m━━━━━━━━━━━━━━━━━━━━\u001b[0m\u001b[37m\u001b[0m \u001b[1m2s\u001b[0m 615us/step - accuracy: 0.7767 - loss: 0.4753 - val_accuracy: 0.7717 - val_loss: 0.4986\n",
      "Epoch 19/100\n",
      "\u001b[1m2891/2891\u001b[0m \u001b[32m━━━━━━━━━━━━━━━━━━━━\u001b[0m\u001b[37m\u001b[0m \u001b[1m2s\u001b[0m 627us/step - accuracy: 0.7791 - loss: 0.4697 - val_accuracy: 0.7688 - val_loss: 0.4998\n",
      "Epoch 20/100\n",
      "\u001b[1m2891/2891\u001b[0m \u001b[32m━━━━━━━━━━━━━━━━━━━━\u001b[0m\u001b[37m\u001b[0m \u001b[1m2s\u001b[0m 644us/step - accuracy: 0.7787 - loss: 0.4701 - val_accuracy: 0.7691 - val_loss: 0.4996\n",
      "Epoch 21/100\n",
      "\u001b[1m2891/2891\u001b[0m \u001b[32m━━━━━━━━━━━━━━━━━━━━\u001b[0m\u001b[37m\u001b[0m \u001b[1m2s\u001b[0m 641us/step - accuracy: 0.7821 - loss: 0.4685 - val_accuracy: 0.7665 - val_loss: 0.5010\n"
     ]
    }
   ],
   "source": [
    "model = Sequential([\n",
    "    Dense(64, input_shape=(X_train.shape[1], ), activation='relu'),\n",
    "    Dense(128, activation='relu'),\n",
    "    Dense(32, activation='relu'),\n",
    "    Dense(2, activation='sigmoid') #softmax\n",
    "])\n",
    "\n",
    "opt = tf.keras.optimizers.Adam(learning_rate=0.001)\n",
    "\n",
    "    \n",
    "model.compile(optimizer=opt,\n",
    "              loss='sparse_categorical_crossentropy',\n",
    "              metrics=['accuracy'])\n",
    "\n",
    "MODEL_SAVE_NAME = 'churn_prediction_NN.keras'\n",
    "train_results = model.fit(X_train, y_train, epochs=100, validation_data=(X_val, y_val), \n",
    "                    callbacks=[EarlyStopping(monitor='val_loss', patience=5), \n",
    "                              ModelCheckpoint(MODEL_SAVE_NAME, save_best_only=True)])"
   ]
  },
  {
   "cell_type": "code",
   "execution_count": 46,
   "metadata": {},
   "outputs": [
    {
     "name": "stdout",
     "output_type": "stream",
     "text": [
      "Training Accuracy: 0.7811800837516785\n",
      "Testing Accuracy: 0.7717325687408447\n"
     ]
    },
    {
     "data": {
      "image/png": "[encoded data removed]",
      "text/plain": [
       "<Figure size 640x480 with 1 Axes>"
      ]
     },
     "metadata": {},
     "output_type": "display_data"
    }
   ],
   "source": [
    "train_accuracy = max(train_results.history['accuracy'])\n",
    "print(\"Training Accuracy:\", train_accuracy)\n",
    "test_accuracy = max(train_results.history['val_accuracy'])\n",
    "print(\"Testing Accuracy:\", test_accuracy)\n",
    "\n",
    "plt.title('loss')\n",
    "plt.plot(train_results.history['loss'], label='loss')\n",
    "plt.plot(train_results.history['val_loss'], label='val_loss')\n",
    "plt.legend()\n",
    "plt.show()"
   ]
  },
  {
   "cell_type": "code",
   "execution_count": 51,
   "metadata": {},
   "outputs": [
    {
     "name": "stdout",
     "output_type": "stream",
     "text": [
      "\u001b[1m362/362\u001b[0m \u001b[32m━━━━━━━━━━━━━━━━━━━━\u001b[0m\u001b[37m\u001b[0m \u001b[1m0s\u001b[0m 520us/step\n",
      "              precision    recall  f1-score   support\n",
      "\n",
      "           0       0.79      0.96      0.87      8792\n",
      "           1       0.58      0.17      0.26      2769\n",
      "\n",
      "    accuracy                           0.77     11561\n",
      "   macro avg       0.69      0.57      0.56     11561\n",
      "weighted avg       0.74      0.77      0.72     11561\n",
      "\n"
     ]
    },
    {
     "data": {
      "image/png": "[encoded data removed]",
      "text/plain": [
       "<Figure size 640x480 with 2 Axes>"
      ]
     },
     "metadata": {},
     "output_type": "display_data"
    }
   ],
   "source": [
    "model = load_model(\"churn_prediction_NN.keras\")\n",
    "\n",
    "y_pred = model.predict(X_test).argmax(axis=1)\n",
    "\n",
    "print(classification_report(y_test, y_pred))\n",
    "disp = ConfusionMatrixDisplay(confusion_matrix(y_test, y_pred)).plot(cmap='Blues')\n",
    "plt.show()"
   ]
  },
  {
   "cell_type": "code",
   "execution_count": 49,
   "metadata": {},
   "outputs": [
    {
     "name": "stdout",
     "output_type": "stream",
     "text": [
      "F1: 0.26135726303982054\n",
      "Area under the curve: 0.5653219702010857\n"
     ]
    }
   ],
   "source": [
    "f1 = f1_score(y_test, y_pred)\n",
    "print(\"F1:\", f1)\n",
    "\n",
    "fpr, tpr, thresholds = roc_curve(y_test, y_pred)\n",
    "roc_auc = auc(fpr, tpr)\n",
    "print(\"Area under the curve:\", roc_auc)"
   ]
  },
  {
   "cell_type": "markdown",
   "metadata": {},
   "source": [
    "# XGBoost"
   ]
  },
  {
   "cell_type": "code",
   "execution_count": 50,
   "metadata": {},
   "outputs": [],
   "source": [
    "import xgboost as xgb"
   ]
  },
  {
   "cell_type": "code",
   "execution_count": 52,
   "metadata": {},
   "outputs": [
    {
     "name": "stdout",
     "output_type": "stream",
     "text": [
      "Training Accuracy: 0.8265810330100447\n",
      "Testing Accuracy: 0.8140299282069026\n",
      "              precision    recall  f1-score   support\n",
      "\n",
      "           0       0.82      0.97      0.89      8792\n",
      "           1       0.78      0.31      0.45      2769\n",
      "\n",
      "    accuracy                           0.81     11561\n",
      "   macro avg       0.80      0.64      0.67     11561\n",
      "weighted avg       0.81      0.81      0.78     11561\n",
      "\n"
     ]
    }
   ],
   "source": [
    "xgb_model = xgb.XGBClassifier()\n",
    "xgb_model.fit(X_train, y_train)\n",
    "\n",
    "y_train_pred = xgb_model.predict(X_train)\n",
    "train_accuracy = accuracy_score(y_train, y_train_pred)\n",
    "print(\"Training Accuracy:\", train_accuracy)\n",
    "\n",
    "y_test_pred = xgb_model.predict(X_test)\n",
    "test_accuracy = accuracy_score(y_test, y_test_pred)\n",
    "print(\"Testing Accuracy:\", test_accuracy)\n",
    "\n",
    "print(classification_report(y_test, y_test_pred))"
   ]
  },
  {
   "cell_type": "code",
   "execution_count": 53,
   "metadata": {},
   "outputs": [
    {
     "data": {
      "image/png": "[encoded data removed]",
      "text/plain": [
       "<Figure size 640x480 with 2 Axes>"
      ]
     },
     "metadata": {},
     "output_type": "display_data"
    }
   ],
   "source": [
    "disp = ConfusionMatrixDisplay(confusion_matrix(y_test, y_test_pred)).plot(cmap='Blues')\n",
    "plt.show()"
   ]
  },
  {
   "cell_type": "code",
   "execution_count": 54,
   "metadata": {},
   "outputs": [
    {
     "name": "stdout",
     "output_type": "stream",
     "text": [
      "F1: 0.44587628865979384\n",
      "Area under the curve: 0.6422035807857106\n"
     ]
    }
   ],
   "source": [
    "f1 = f1_score(y_test, y_test_pred)\n",
    "print(\"F1:\", f1)\n",
    "\n",
    "fpr, tpr, thresholds = roc_curve(y_test, y_test_pred)\n",
    "roc_auc = auc(fpr, tpr)\n",
    "print(\"Area under the curve:\", roc_auc)"
   ]
  }
 ],
 "metadata": {
  "kernelspec": {
   "display_name": "Python 3",
   "language": "python",
   "name": "python3"
  },
  "language_info": {
   "codemirror_mode": {
    "name": "ipython",
    "version": 3
   },
   "file_extension": ".py",
   "mimetype": "text/x-python",
   "name": "python",
   "nbconvert_exporter": "python",
   "pygments_lexer": "ipython3",
   "version": "3.11.8"
  }
 },
 "nbformat": 4,
 "nbformat_minor": 2
}
