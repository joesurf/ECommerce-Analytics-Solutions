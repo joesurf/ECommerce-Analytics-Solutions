{
 "cells": [
  {
   "cell_type": "code",
   "execution_count": 2,
   "metadata": {},
   "outputs": [],
   "source": [
    "import pandas as pd"
   ]
  },
  {
   "cell_type": "code",
   "execution_count": 6,
   "metadata": {},
   "outputs": [],
   "source": [
    "customers_df= pd.read_csv('../data/olist_customers_dataset.csv')\n",
    "geolocation_df= pd.read_csv('../data/olist_geolocation_dataset.csv')\n",
    "items_df= pd.read_csv('../data/olist_order_items_dataset.csv')\n",
    "payments_df= pd.read_csv('../data/olist_order_payments_dataset.csv')\n",
    "reviews_df= pd.read_csv('../data/olist_order_reviews_dataset.csv')\n",
    "orders_df= pd.read_csv('../data/olist_orders_dataset.csv')\n",
    "products_df= pd.read_csv('../data/olist_products_dataset.csv')\n",
    "sellers_df= pd.read_csv('../data/olist_sellers_dataset.csv')\n",
    "category_translation_df= pd.read_csv('../data/product_category_name_translation.csv')"
   ]
  },
  {
   "cell_type": "markdown",
   "metadata": {},
   "source": [
    "#### Data Cleaning"
   ]
  },
  {
   "cell_type": "markdown",
   "metadata": {},
   "source": [
    "Merge all data fames"
   ]
  },
  {
   "cell_type": "code",
   "execution_count": 7,
   "metadata": {},
   "outputs": [
    {
     "data": {
      "text/plain": [
       "(115609, 40)"
      ]
     },
     "execution_count": 7,
     "metadata": {},
     "output_type": "execute_result"
    }
   ],
   "source": [
    "df= pd.merge(customers_df, orders_df, on=\"customer_id\", how='inner')\n",
    "df= df.merge(reviews_df, on=\"order_id\", how='inner')\n",
    "df= df.merge(items_df, on=\"order_id\", how='inner')\n",
    "df= df.merge(products_df, on=\"product_id\", how='inner')\n",
    "df= df.merge(payments_df, on=\"order_id\", how='inner')\n",
    "df= df.merge(sellers_df, on='seller_id', how='inner')\n",
    "df= df.merge(category_translation_df, on='product_category_name', how='inner')\n",
    "df.shape"
   ]
  },
  {
   "cell_type": "code",
   "execution_count": 8,
   "metadata": {},
   "outputs": [
    {
     "data": {
      "text/plain": [
       "Index(['customer_id', 'customer_unique_id', 'customer_zip_code_prefix',\n",
       "       'customer_city', 'customer_state', 'order_id', 'order_status',\n",
       "       'order_purchase_timestamp', 'order_approved_at',\n",
       "       'order_delivered_carrier_date', 'order_delivered_customer_date',\n",
       "       'order_estimated_delivery_date', 'review_id', 'review_score',\n",
       "       'review_comment_title', 'review_comment_message',\n",
       "       'review_creation_date', 'review_answer_timestamp', 'order_item_id',\n",
       "       'product_id', 'seller_id', 'shipping_limit_date', 'price',\n",
       "       'freight_value', 'product_category_name', 'product_name_lenght',\n",
       "       'product_description_lenght', 'product_photos_qty', 'product_weight_g',\n",
       "       'product_length_cm', 'product_height_cm', 'product_width_cm',\n",
       "       'payment_sequential', 'payment_type', 'payment_installments',\n",
       "       'payment_value', 'seller_zip_code_prefix', 'seller_city',\n",
       "       'seller_state', 'product_category_name_english'],\n",
       "      dtype='object')"
      ]
     },
     "execution_count": 8,
     "metadata": {},
     "output_type": "execute_result"
    }
   ],
   "source": [
    "df.columns"
   ]
  },
  {
   "cell_type": "markdown",
   "metadata": {},
   "source": [
    "Check duplicates"
   ]
  },
  {
   "cell_type": "code",
   "execution_count": 9,
   "metadata": {},
   "outputs": [
    {
     "data": {
      "text/plain": [
       "0"
      ]
     },
     "execution_count": 9,
     "metadata": {},
     "output_type": "execute_result"
    }
   ],
   "source": [
    "df.duplicated().sum()"
   ]
  },
  {
   "cell_type": "code",
   "execution_count": 10,
   "metadata": {},
   "outputs": [
    {
     "data": {
      "text/html": [
       "<div>\n",
       "<style scoped>\n",
       "    .dataframe tbody tr th:only-of-type {\n",
       "        vertical-align: middle;\n",
       "    }\n",
       "\n",
       "    .dataframe tbody tr th {\n",
       "        vertical-align: top;\n",
       "    }\n",
       "\n",
       "    .dataframe thead th {\n",
       "        text-align: right;\n",
       "    }\n",
       "</style>\n",
       "<table border=\"1\" class=\"dataframe\">\n",
       "  <thead>\n",
       "    <tr style=\"text-align: right;\">\n",
       "      <th></th>\n",
       "      <th>customer_zip_code_prefix</th>\n",
       "      <th>review_score</th>\n",
       "      <th>order_item_id</th>\n",
       "      <th>price</th>\n",
       "      <th>freight_value</th>\n",
       "      <th>product_name_lenght</th>\n",
       "      <th>product_description_lenght</th>\n",
       "      <th>product_photos_qty</th>\n",
       "      <th>product_weight_g</th>\n",
       "      <th>product_length_cm</th>\n",
       "      <th>product_height_cm</th>\n",
       "      <th>product_width_cm</th>\n",
       "      <th>payment_sequential</th>\n",
       "      <th>payment_installments</th>\n",
       "      <th>payment_value</th>\n",
       "      <th>seller_zip_code_prefix</th>\n",
       "    </tr>\n",
       "  </thead>\n",
       "  <tbody>\n",
       "    <tr>\n",
       "      <th>count</th>\n",
       "      <td>115609.000000</td>\n",
       "      <td>115609.000000</td>\n",
       "      <td>115609.000000</td>\n",
       "      <td>115609.000000</td>\n",
       "      <td>115609.000000</td>\n",
       "      <td>115609.000000</td>\n",
       "      <td>115609.000000</td>\n",
       "      <td>115609.000000</td>\n",
       "      <td>115608.000000</td>\n",
       "      <td>115608.000000</td>\n",
       "      <td>115608.000000</td>\n",
       "      <td>115608.000000</td>\n",
       "      <td>115609.000000</td>\n",
       "      <td>115609.000000</td>\n",
       "      <td>115609.000000</td>\n",
       "      <td>115609.000000</td>\n",
       "    </tr>\n",
       "    <tr>\n",
       "      <th>mean</th>\n",
       "      <td>35061.537597</td>\n",
       "      <td>4.034409</td>\n",
       "      <td>1.194535</td>\n",
       "      <td>120.619850</td>\n",
       "      <td>20.056880</td>\n",
       "      <td>48.766541</td>\n",
       "      <td>785.808198</td>\n",
       "      <td>2.205373</td>\n",
       "      <td>2113.907697</td>\n",
       "      <td>30.307903</td>\n",
       "      <td>16.638477</td>\n",
       "      <td>23.113167</td>\n",
       "      <td>1.093747</td>\n",
       "      <td>2.946233</td>\n",
       "      <td>172.387379</td>\n",
       "      <td>24515.713958</td>\n",
       "    </tr>\n",
       "    <tr>\n",
       "      <th>std</th>\n",
       "      <td>29841.671732</td>\n",
       "      <td>1.385584</td>\n",
       "      <td>0.685926</td>\n",
       "      <td>182.653476</td>\n",
       "      <td>15.836184</td>\n",
       "      <td>10.034187</td>\n",
       "      <td>652.418619</td>\n",
       "      <td>1.717771</td>\n",
       "      <td>3781.754895</td>\n",
       "      <td>16.211108</td>\n",
       "      <td>13.473570</td>\n",
       "      <td>11.755083</td>\n",
       "      <td>0.729849</td>\n",
       "      <td>2.781087</td>\n",
       "      <td>265.873969</td>\n",
       "      <td>27636.640968</td>\n",
       "    </tr>\n",
       "    <tr>\n",
       "      <th>min</th>\n",
       "      <td>1003.000000</td>\n",
       "      <td>1.000000</td>\n",
       "      <td>1.000000</td>\n",
       "      <td>0.850000</td>\n",
       "      <td>0.000000</td>\n",
       "      <td>5.000000</td>\n",
       "      <td>4.000000</td>\n",
       "      <td>1.000000</td>\n",
       "      <td>0.000000</td>\n",
       "      <td>7.000000</td>\n",
       "      <td>2.000000</td>\n",
       "      <td>6.000000</td>\n",
       "      <td>1.000000</td>\n",
       "      <td>0.000000</td>\n",
       "      <td>0.000000</td>\n",
       "      <td>1001.000000</td>\n",
       "    </tr>\n",
       "    <tr>\n",
       "      <th>25%</th>\n",
       "      <td>11310.000000</td>\n",
       "      <td>4.000000</td>\n",
       "      <td>1.000000</td>\n",
       "      <td>39.900000</td>\n",
       "      <td>13.080000</td>\n",
       "      <td>42.000000</td>\n",
       "      <td>346.000000</td>\n",
       "      <td>1.000000</td>\n",
       "      <td>300.000000</td>\n",
       "      <td>18.000000</td>\n",
       "      <td>8.000000</td>\n",
       "      <td>15.000000</td>\n",
       "      <td>1.000000</td>\n",
       "      <td>1.000000</td>\n",
       "      <td>60.870000</td>\n",
       "      <td>6429.000000</td>\n",
       "    </tr>\n",
       "    <tr>\n",
       "      <th>50%</th>\n",
       "      <td>24241.000000</td>\n",
       "      <td>5.000000</td>\n",
       "      <td>1.000000</td>\n",
       "      <td>74.900000</td>\n",
       "      <td>16.320000</td>\n",
       "      <td>52.000000</td>\n",
       "      <td>600.000000</td>\n",
       "      <td>1.000000</td>\n",
       "      <td>700.000000</td>\n",
       "      <td>25.000000</td>\n",
       "      <td>13.000000</td>\n",
       "      <td>20.000000</td>\n",
       "      <td>1.000000</td>\n",
       "      <td>2.000000</td>\n",
       "      <td>108.050000</td>\n",
       "      <td>13660.000000</td>\n",
       "    </tr>\n",
       "    <tr>\n",
       "      <th>75%</th>\n",
       "      <td>58745.000000</td>\n",
       "      <td>5.000000</td>\n",
       "      <td>1.000000</td>\n",
       "      <td>134.900000</td>\n",
       "      <td>21.210000</td>\n",
       "      <td>57.000000</td>\n",
       "      <td>983.000000</td>\n",
       "      <td>3.000000</td>\n",
       "      <td>1800.000000</td>\n",
       "      <td>38.000000</td>\n",
       "      <td>20.000000</td>\n",
       "      <td>30.000000</td>\n",
       "      <td>1.000000</td>\n",
       "      <td>4.000000</td>\n",
       "      <td>189.480000</td>\n",
       "      <td>28605.000000</td>\n",
       "    </tr>\n",
       "    <tr>\n",
       "      <th>max</th>\n",
       "      <td>99980.000000</td>\n",
       "      <td>5.000000</td>\n",
       "      <td>21.000000</td>\n",
       "      <td>6735.000000</td>\n",
       "      <td>409.680000</td>\n",
       "      <td>76.000000</td>\n",
       "      <td>3992.000000</td>\n",
       "      <td>20.000000</td>\n",
       "      <td>40425.000000</td>\n",
       "      <td>105.000000</td>\n",
       "      <td>105.000000</td>\n",
       "      <td>118.000000</td>\n",
       "      <td>29.000000</td>\n",
       "      <td>24.000000</td>\n",
       "      <td>13664.080000</td>\n",
       "      <td>99730.000000</td>\n",
       "    </tr>\n",
       "  </tbody>\n",
       "</table>\n",
       "</div>"
      ],
      "text/plain": [
       "       customer_zip_code_prefix   review_score  order_item_id          price  \\\n",
       "count             115609.000000  115609.000000  115609.000000  115609.000000   \n",
       "mean               35061.537597       4.034409       1.194535     120.619850   \n",
       "std                29841.671732       1.385584       0.685926     182.653476   \n",
       "min                 1003.000000       1.000000       1.000000       0.850000   \n",
       "25%                11310.000000       4.000000       1.000000      39.900000   \n",
       "50%                24241.000000       5.000000       1.000000      74.900000   \n",
       "75%                58745.000000       5.000000       1.000000     134.900000   \n",
       "max                99980.000000       5.000000      21.000000    6735.000000   \n",
       "\n",
       "       freight_value  product_name_lenght  product_description_lenght  \\\n",
       "count  115609.000000        115609.000000               115609.000000   \n",
       "mean       20.056880            48.766541                  785.808198   \n",
       "std        15.836184            10.034187                  652.418619   \n",
       "min         0.000000             5.000000                    4.000000   \n",
       "25%        13.080000            42.000000                  346.000000   \n",
       "50%        16.320000            52.000000                  600.000000   \n",
       "75%        21.210000            57.000000                  983.000000   \n",
       "max       409.680000            76.000000                 3992.000000   \n",
       "\n",
       "       product_photos_qty  product_weight_g  product_length_cm  \\\n",
       "count       115609.000000     115608.000000      115608.000000   \n",
       "mean             2.205373       2113.907697          30.307903   \n",
       "std              1.717771       3781.754895          16.211108   \n",
       "min              1.000000          0.000000           7.000000   \n",
       "25%              1.000000        300.000000          18.000000   \n",
       "50%              1.000000        700.000000          25.000000   \n",
       "75%              3.000000       1800.000000          38.000000   \n",
       "max             20.000000      40425.000000         105.000000   \n",
       "\n",
       "       product_height_cm  product_width_cm  payment_sequential  \\\n",
       "count      115608.000000     115608.000000       115609.000000   \n",
       "mean           16.638477         23.113167            1.093747   \n",
       "std            13.473570         11.755083            0.729849   \n",
       "min             2.000000          6.000000            1.000000   \n",
       "25%             8.000000         15.000000            1.000000   \n",
       "50%            13.000000         20.000000            1.000000   \n",
       "75%            20.000000         30.000000            1.000000   \n",
       "max           105.000000        118.000000           29.000000   \n",
       "\n",
       "       payment_installments  payment_value  seller_zip_code_prefix  \n",
       "count         115609.000000  115609.000000           115609.000000  \n",
       "mean               2.946233     172.387379            24515.713958  \n",
       "std                2.781087     265.873969            27636.640968  \n",
       "min                0.000000       0.000000             1001.000000  \n",
       "25%                1.000000      60.870000             6429.000000  \n",
       "50%                2.000000     108.050000            13660.000000  \n",
       "75%                4.000000     189.480000            28605.000000  \n",
       "max               24.000000   13664.080000            99730.000000  "
      ]
     },
     "execution_count": 10,
     "metadata": {},
     "output_type": "execute_result"
    }
   ],
   "source": [
    "df.describe()"
   ]
  },
  {
   "cell_type": "code",
   "execution_count": 12,
   "metadata": {},
   "outputs": [
    {
     "name": "stdout",
     "output_type": "stream",
     "text": [
      "<class 'pandas.core.frame.DataFrame'>\n",
      "RangeIndex: 115609 entries, 0 to 115608\n",
      "Data columns (total 40 columns):\n",
      " #   Column                         Non-Null Count   Dtype  \n",
      "---  ------                         --------------   -----  \n",
      " 0   customer_id                    115609 non-null  object \n",
      " 1   customer_unique_id             115609 non-null  object \n",
      " 2   customer_zip_code_prefix       115609 non-null  int64  \n",
      " 3   customer_city                  115609 non-null  object \n",
      " 4   customer_state                 115609 non-null  object \n",
      " 5   order_id                       115609 non-null  object \n",
      " 6   order_status                   115609 non-null  object \n",
      " 7   order_purchase_timestamp       115609 non-null  object \n",
      " 8   order_approved_at              115595 non-null  object \n",
      " 9   order_delivered_carrier_date   114414 non-null  object \n",
      " 10  order_delivered_customer_date  113209 non-null  object \n",
      " 11  order_estimated_delivery_date  115609 non-null  object \n",
      " 12  review_id                      115609 non-null  object \n",
      " 13  review_score                   115609 non-null  int64  \n",
      " 14  review_comment_title           13801 non-null   object \n",
      " 15  review_comment_message         48906 non-null   object \n",
      " 16  review_creation_date           115609 non-null  object \n",
      " 17  review_answer_timestamp        115609 non-null  object \n",
      " 18  order_item_id                  115609 non-null  int64  \n",
      " 19  product_id                     115609 non-null  object \n",
      " 20  seller_id                      115609 non-null  object \n",
      " 21  shipping_limit_date            115609 non-null  object \n",
      " 22  price                          115609 non-null  float64\n",
      " 23  freight_value                  115609 non-null  float64\n",
      " 24  product_category_name          115609 non-null  object \n",
      " 25  product_name_lenght            115609 non-null  float64\n",
      " 26  product_description_lenght     115609 non-null  float64\n",
      " 27  product_photos_qty             115609 non-null  float64\n",
      " 28  product_weight_g               115608 non-null  float64\n",
      " 29  product_length_cm              115608 non-null  float64\n",
      " 30  product_height_cm              115608 non-null  float64\n",
      " 31  product_width_cm               115608 non-null  float64\n",
      " 32  payment_sequential             115609 non-null  int64  \n",
      " 33  payment_type                   115609 non-null  object \n",
      " 34  payment_installments           115609 non-null  int64  \n",
      " 35  payment_value                  115609 non-null  float64\n",
      " 36  seller_zip_code_prefix         115609 non-null  int64  \n",
      " 37  seller_city                    115609 non-null  object \n",
      " 38  seller_state                   115609 non-null  object \n",
      " 39  product_category_name_english  115609 non-null  object \n",
      "dtypes: float64(10), int64(6), object(24)\n",
      "memory usage: 35.3+ MB\n"
     ]
    }
   ],
   "source": [
    "df.info()"
   ]
  },
  {
   "cell_type": "markdown",
   "metadata": {},
   "source": [
    "Identify misisng values"
   ]
  },
  {
   "cell_type": "code",
   "execution_count": 13,
   "metadata": {},
   "outputs": [
    {
     "data": {
      "text/plain": [
       "customer_id                           0\n",
       "customer_unique_id                    0\n",
       "customer_zip_code_prefix              0\n",
       "customer_city                         0\n",
       "customer_state                        0\n",
       "order_id                              0\n",
       "order_status                          0\n",
       "order_purchase_timestamp              0\n",
       "order_approved_at                    14\n",
       "order_delivered_carrier_date       1195\n",
       "order_delivered_customer_date      2400\n",
       "order_estimated_delivery_date         0\n",
       "review_id                             0\n",
       "review_score                          0\n",
       "review_comment_title             101808\n",
       "review_comment_message            66703\n",
       "review_creation_date                  0\n",
       "review_answer_timestamp               0\n",
       "order_item_id                         0\n",
       "product_id                            0\n",
       "seller_id                             0\n",
       "shipping_limit_date                   0\n",
       "price                                 0\n",
       "freight_value                         0\n",
       "product_category_name                 0\n",
       "product_name_lenght                   0\n",
       "product_description_lenght            0\n",
       "product_photos_qty                    0\n",
       "product_weight_g                      1\n",
       "product_length_cm                     1\n",
       "product_height_cm                     1\n",
       "product_width_cm                      1\n",
       "payment_sequential                    0\n",
       "payment_type                          0\n",
       "payment_installments                  0\n",
       "payment_value                         0\n",
       "seller_zip_code_prefix                0\n",
       "seller_city                           0\n",
       "seller_state                          0\n",
       "product_category_name_english         0\n",
       "dtype: int64"
      ]
     },
     "execution_count": 13,
     "metadata": {},
     "output_type": "execute_result"
    }
   ],
   "source": [
    "df.isna().sum()"
   ]
  },
  {
   "cell_type": "markdown",
   "metadata": {},
   "source": [
    "Drop unnecessary columns with missing values"
   ]
  },
  {
   "cell_type": "code",
   "execution_count": 14,
   "metadata": {},
   "outputs": [],
   "source": [
    "df.dropna(subset= ['order_approved_at', 'order_delivered_carrier_date', 'order_delivered_customer_date'], inplace=True)"
   ]
  },
  {
   "cell_type": "code",
   "execution_count": 15,
   "metadata": {},
   "outputs": [
    {
     "data": {
      "text/html": [
       "<div>\n",
       "<style scoped>\n",
       "    .dataframe tbody tr th:only-of-type {\n",
       "        vertical-align: middle;\n",
       "    }\n",
       "\n",
       "    .dataframe tbody tr th {\n",
       "        vertical-align: top;\n",
       "    }\n",
       "\n",
       "    .dataframe thead th {\n",
       "        text-align: right;\n",
       "    }\n",
       "</style>\n",
       "<table border=\"1\" class=\"dataframe\">\n",
       "  <thead>\n",
       "    <tr style=\"text-align: right;\">\n",
       "      <th></th>\n",
       "      <th>product_weight_g</th>\n",
       "      <th>product_length_cm</th>\n",
       "      <th>product_height_cm</th>\n",
       "      <th>product_width_cm</th>\n",
       "    </tr>\n",
       "  </thead>\n",
       "  <tbody>\n",
       "    <tr>\n",
       "      <th>60893</th>\n",
       "      <td>NaN</td>\n",
       "      <td>NaN</td>\n",
       "      <td>NaN</td>\n",
       "      <td>NaN</td>\n",
       "    </tr>\n",
       "  </tbody>\n",
       "</table>\n",
       "</div>"
      ],
      "text/plain": [
       "       product_weight_g  product_length_cm  product_height_cm  \\\n",
       "60893               NaN                NaN                NaN   \n",
       "\n",
       "       product_width_cm  \n",
       "60893               NaN  "
      ]
     },
     "execution_count": 15,
     "metadata": {},
     "output_type": "execute_result"
    }
   ],
   "source": [
    "df[['product_weight_g', 'product_length_cm', 'product_height_cm', 'product_width_cm']][df.product_weight_g.isna()]"
   ]
  },
  {
   "cell_type": "code",
   "execution_count": 16,
   "metadata": {},
   "outputs": [],
   "source": [
    "df.drop(60893, inplace=True)"
   ]
  },
  {
   "cell_type": "code",
   "execution_count": 17,
   "metadata": {},
   "outputs": [],
   "source": [
    "df.reset_index(inplace= True, drop= True)"
   ]
  },
  {
   "cell_type": "code",
   "execution_count": 19,
   "metadata": {},
   "outputs": [
    {
     "data": {
      "text/html": [
       "<div>\n",
       "<style scoped>\n",
       "    .dataframe tbody tr th:only-of-type {\n",
       "        vertical-align: middle;\n",
       "    }\n",
       "\n",
       "    .dataframe tbody tr th {\n",
       "        vertical-align: top;\n",
       "    }\n",
       "\n",
       "    .dataframe thead th {\n",
       "        text-align: right;\n",
       "    }\n",
       "</style>\n",
       "<table border=\"1\" class=\"dataframe\">\n",
       "  <thead>\n",
       "    <tr style=\"text-align: right;\">\n",
       "      <th></th>\n",
       "      <th>customer_id</th>\n",
       "      <th>customer_unique_id</th>\n",
       "      <th>customer_zip_code_prefix</th>\n",
       "      <th>customer_city</th>\n",
       "      <th>customer_state</th>\n",
       "      <th>order_id</th>\n",
       "      <th>order_status</th>\n",
       "      <th>order_purchase_timestamp</th>\n",
       "      <th>order_approved_at</th>\n",
       "      <th>order_delivered_carrier_date</th>\n",
       "      <th>...</th>\n",
       "      <th>product_height_cm</th>\n",
       "      <th>product_width_cm</th>\n",
       "      <th>payment_sequential</th>\n",
       "      <th>payment_type</th>\n",
       "      <th>payment_installments</th>\n",
       "      <th>payment_value</th>\n",
       "      <th>seller_zip_code_prefix</th>\n",
       "      <th>seller_city</th>\n",
       "      <th>seller_state</th>\n",
       "      <th>product_category_name_english</th>\n",
       "    </tr>\n",
       "  </thead>\n",
       "  <tbody>\n",
       "    <tr>\n",
       "      <th>0</th>\n",
       "      <td>06b8999e2fba1a1fbc88172c00ba8bc7</td>\n",
       "      <td>861eff4711a542e4b93843c6dd7febb0</td>\n",
       "      <td>14409</td>\n",
       "      <td>franca</td>\n",
       "      <td>SP</td>\n",
       "      <td>00e7ee1b050b8499577073aeb2a297a1</td>\n",
       "      <td>delivered</td>\n",
       "      <td>2017-05-16 15:05:35</td>\n",
       "      <td>2017-05-16 15:22:12</td>\n",
       "      <td>2017-05-23 10:47:57</td>\n",
       "      <td>...</td>\n",
       "      <td>64.0</td>\n",
       "      <td>31.0</td>\n",
       "      <td>1</td>\n",
       "      <td>credit_card</td>\n",
       "      <td>2</td>\n",
       "      <td>146.87</td>\n",
       "      <td>8577</td>\n",
       "      <td>itaquaquecetuba</td>\n",
       "      <td>SP</td>\n",
       "      <td>office_furniture</td>\n",
       "    </tr>\n",
       "    <tr>\n",
       "      <th>1</th>\n",
       "      <td>18955e83d337fd6b2def6b18a428ac77</td>\n",
       "      <td>290c77bc529b7ac935b93aa66c333dc3</td>\n",
       "      <td>9790</td>\n",
       "      <td>sao bernardo do campo</td>\n",
       "      <td>SP</td>\n",
       "      <td>29150127e6685892b6eab3eec79f59c7</td>\n",
       "      <td>delivered</td>\n",
       "      <td>2018-01-12 20:48:24</td>\n",
       "      <td>2018-01-12 20:58:32</td>\n",
       "      <td>2018-01-15 17:14:59</td>\n",
       "      <td>...</td>\n",
       "      <td>15.0</td>\n",
       "      <td>40.0</td>\n",
       "      <td>1</td>\n",
       "      <td>credit_card</td>\n",
       "      <td>8</td>\n",
       "      <td>335.48</td>\n",
       "      <td>88303</td>\n",
       "      <td>itajai</td>\n",
       "      <td>SC</td>\n",
       "      <td>housewares</td>\n",
       "    </tr>\n",
       "    <tr>\n",
       "      <th>2</th>\n",
       "      <td>4e7b3e00288586ebd08712fdd0374a03</td>\n",
       "      <td>060e732b5b29e8181a18229c7b0b2b5e</td>\n",
       "      <td>1151</td>\n",
       "      <td>sao paulo</td>\n",
       "      <td>SP</td>\n",
       "      <td>b2059ed67ce144a36e2aa97d2c9e9ad2</td>\n",
       "      <td>delivered</td>\n",
       "      <td>2018-05-19 16:07:45</td>\n",
       "      <td>2018-05-20 16:19:10</td>\n",
       "      <td>2018-06-11 14:31:00</td>\n",
       "      <td>...</td>\n",
       "      <td>52.0</td>\n",
       "      <td>17.0</td>\n",
       "      <td>1</td>\n",
       "      <td>credit_card</td>\n",
       "      <td>7</td>\n",
       "      <td>157.73</td>\n",
       "      <td>8577</td>\n",
       "      <td>itaquaquecetuba</td>\n",
       "      <td>SP</td>\n",
       "      <td>office_furniture</td>\n",
       "    </tr>\n",
       "  </tbody>\n",
       "</table>\n",
       "<p>3 rows × 40 columns</p>\n",
       "</div>"
      ],
      "text/plain": [
       "                        customer_id                customer_unique_id  \\\n",
       "0  06b8999e2fba1a1fbc88172c00ba8bc7  861eff4711a542e4b93843c6dd7febb0   \n",
       "1  18955e83d337fd6b2def6b18a428ac77  290c77bc529b7ac935b93aa66c333dc3   \n",
       "2  4e7b3e00288586ebd08712fdd0374a03  060e732b5b29e8181a18229c7b0b2b5e   \n",
       "\n",
       "   customer_zip_code_prefix          customer_city customer_state  \\\n",
       "0                     14409                 franca             SP   \n",
       "1                      9790  sao bernardo do campo             SP   \n",
       "2                      1151              sao paulo             SP   \n",
       "\n",
       "                           order_id order_status order_purchase_timestamp  \\\n",
       "0  00e7ee1b050b8499577073aeb2a297a1    delivered      2017-05-16 15:05:35   \n",
       "1  29150127e6685892b6eab3eec79f59c7    delivered      2018-01-12 20:48:24   \n",
       "2  b2059ed67ce144a36e2aa97d2c9e9ad2    delivered      2018-05-19 16:07:45   \n",
       "\n",
       "     order_approved_at order_delivered_carrier_date  ... product_height_cm  \\\n",
       "0  2017-05-16 15:22:12          2017-05-23 10:47:57  ...              64.0   \n",
       "1  2018-01-12 20:58:32          2018-01-15 17:14:59  ...              15.0   \n",
       "2  2018-05-20 16:19:10          2018-06-11 14:31:00  ...              52.0   \n",
       "\n",
       "  product_width_cm payment_sequential  payment_type payment_installments  \\\n",
       "0             31.0                  1   credit_card                    2   \n",
       "1             40.0                  1   credit_card                    8   \n",
       "2             17.0                  1   credit_card                    7   \n",
       "\n",
       "  payment_value seller_zip_code_prefix      seller_city  seller_state  \\\n",
       "0        146.87                   8577  itaquaquecetuba            SP   \n",
       "1        335.48                  88303           itajai            SC   \n",
       "2        157.73                   8577  itaquaquecetuba            SP   \n",
       "\n",
       "  product_category_name_english  \n",
       "0              office_furniture  \n",
       "1                    housewares  \n",
       "2              office_furniture  \n",
       "\n",
       "[3 rows x 40 columns]"
      ]
     },
     "execution_count": 19,
     "metadata": {},
     "output_type": "execute_result"
    }
   ],
   "source": [
    "df.head(3)"
   ]
  },
  {
   "cell_type": "markdown",
   "metadata": {},
   "source": [
    "#### Feature Engineering"
   ]
  },
  {
   "cell_type": "markdown",
   "metadata": {},
   "source": [
    "New feature: \n",
    "Reclassify categories in 9 main ones"
   ]
  },
  {
   "cell_type": "code",
   "execution_count": 20,
   "metadata": {},
   "outputs": [],
   "source": [
    "def classify_cat(x):\n",
    "\n",
    "    categories = {\n",
    "        'Furniture': ['office_furniture', 'furniture_decor', 'furniture_living_room', 'kitchen_dining_laundry_garden_furniture', 'bed_bath_table', 'home_comfort', 'home_comfort_2', 'home_construction', 'garden_tools', 'furniture_bedroom', 'furniture_mattress_and_upholstery'],\n",
    "        'Electronics': ['auto', 'computers_accessories', 'musical_instruments', 'consoles_games', 'watches_gifts', 'air_conditioning', 'telephony', 'electronics', 'fixed_telephony', 'tablets_printing_image', 'computers', 'small_appliances_home_oven_and_coffee', 'small_appliances', 'audio', 'signaling_and_security', 'security_and_services'],\n",
    "        'Fashion': ['fashio_female_clothing', 'fashion_male_clothing', 'fashion_bags_accessories', 'fashion_shoes', 'fashion_sport', 'fashion_underwear_beach', 'fashion_childrens_clothes', 'baby', 'cool_stuff', ],\n",
    "        'Home & Garden': ['housewares', 'home_confort', 'home_appliances', 'home_appliances_2', 'flowers', 'costruction_tools_garden', 'garden_tools', 'construction_tools_lights', 'costruction_tools_tools', 'luggage_accessories', 'la_cuisine', 'pet_shop', 'market_place'],\n",
    "        'Entertainment': ['sports_leisure', 'toys', 'cds_dvds_musicals', 'music', 'dvds_blu_ray', 'cine_photo', 'party_supplies', 'christmas_supplies', 'arts_and_craftmanship', 'art'],\n",
    "        'Beauty & Health': ['health_beauty', 'perfumery', 'diapers_and_hygiene'],\n",
    "        'Food & Drinks': ['food_drink', 'drinks', 'food'],\n",
    "        'Books & Stationery': ['books_general_interest', 'books_technical', 'books_imported', 'stationery'],   \n",
    "        'Industry & Construction': ['construction_tools_construction', 'construction_tools_safety', 'industry_commerce_and_business', 'agro_industry_and_commerce']\n",
    "    }\n",
    "\n",
    "    for category, products in categories.items():\n",
    "        if x in products:\n",
    "            return category\n",
    "\n",
    "    return 'Others'"
   ]
  },
  {
   "cell_type": "code",
   "execution_count": 21,
   "metadata": {},
   "outputs": [],
   "source": [
    "df['product_category'] = df.product_category_name_english.apply(classify_cat)"
   ]
  },
  {
   "cell_type": "code",
   "execution_count": 23,
   "metadata": {},
   "outputs": [
    {
     "data": {
      "text/plain": [
       "product_category\n",
       "Electronics                29568\n",
       "Furniture                  28050\n",
       "Entertainment              13507\n",
       "Beauty & Health            13283\n",
       "Home & Garden              12848\n",
       "Fashion                     9722\n",
       "Books & Stationery          3427\n",
       "Industry & Construction     1633\n",
       "Food & Drinks               1155\n",
       "Name: count, dtype: int64"
      ]
     },
     "execution_count": 23,
     "metadata": {},
     "output_type": "execute_result"
    }
   ],
   "source": [
    "df['product_category'].value_counts()"
   ]
  },
  {
   "cell_type": "code",
   "execution_count": 24,
   "metadata": {},
   "outputs": [],
   "source": [
    "df['product_volume'] = df.product_length_cm * df.product_width_cm * df.product_height_cm\n",
    "df.drop(['product_length_cm', 'product_width_cm', 'product_height_cm'], axis= 1, inplace= True)"
   ]
  },
  {
   "cell_type": "code",
   "execution_count": 25,
   "metadata": {},
   "outputs": [
    {
     "data": {
      "text/plain": [
       "count    113193.000000\n",
       "mean      15305.660253\n",
       "std       23408.715660\n",
       "min         168.000000\n",
       "25%        2856.000000\n",
       "50%        6612.000000\n",
       "75%       18468.000000\n",
       "max      296208.000000\n",
       "Name: product_volume, dtype: float64"
      ]
     },
     "execution_count": 25,
     "metadata": {},
     "output_type": "execute_result"
    }
   ],
   "source": [
    "df['product_volume'].describe()"
   ]
  },
  {
   "cell_type": "markdown",
   "metadata": {},
   "source": [
    "Convert datetime features to proper formatting"
   ]
  },
  {
   "cell_type": "code",
   "execution_count": 26,
   "metadata": {},
   "outputs": [],
   "source": [
    "df['order_purchase_timestamp'] = pd.to_datetime(df['order_purchase_timestamp'])\n",
    "df['order_delivered_customer_date'] = pd.to_datetime(df['order_delivered_customer_date'])\n",
    "df['order_estimated_delivery_date'] = pd.to_datetime(df['order_estimated_delivery_date'])\n",
    "df['shipping_limit_date'] = pd.to_datetime(df['shipping_limit_date'])\n",
    "df['order_delivered_carrier_date'] =pd.to_datetime(df['order_delivered_carrier_date'])"
   ]
  },
  {
   "cell_type": "code",
   "execution_count": 27,
   "metadata": {},
   "outputs": [
    {
     "name": "stdout",
     "output_type": "stream",
     "text": [
      "<class 'pandas.core.frame.DataFrame'>\n",
      "RangeIndex: 113193 entries, 0 to 113192\n",
      "Data columns (total 39 columns):\n",
      " #   Column                         Non-Null Count   Dtype         \n",
      "---  ------                         --------------   -----         \n",
      " 0   customer_id                    113193 non-null  object        \n",
      " 1   customer_unique_id             113193 non-null  object        \n",
      " 2   customer_zip_code_prefix       113193 non-null  int64         \n",
      " 3   customer_city                  113193 non-null  object        \n",
      " 4   customer_state                 113193 non-null  object        \n",
      " 5   order_id                       113193 non-null  object        \n",
      " 6   order_status                   113193 non-null  object        \n",
      " 7   order_purchase_timestamp       113193 non-null  datetime64[ns]\n",
      " 8   order_approved_at              113193 non-null  object        \n",
      " 9   order_delivered_carrier_date   113193 non-null  datetime64[ns]\n",
      " 10  order_delivered_customer_date  113193 non-null  datetime64[ns]\n",
      " 11  order_estimated_delivery_date  113193 non-null  datetime64[ns]\n",
      " 12  review_id                      113193 non-null  object        \n",
      " 13  review_score                   113193 non-null  int64         \n",
      " 14  review_comment_title           13493 non-null   object        \n",
      " 15  review_comment_message         47359 non-null   object        \n",
      " 16  review_creation_date           113193 non-null  object        \n",
      " 17  review_answer_timestamp        113193 non-null  object        \n",
      " 18  order_item_id                  113193 non-null  int64         \n",
      " 19  product_id                     113193 non-null  object        \n",
      " 20  seller_id                      113193 non-null  object        \n",
      " 21  shipping_limit_date            113193 non-null  datetime64[ns]\n",
      " 22  price                          113193 non-null  float64       \n",
      " 23  freight_value                  113193 non-null  float64       \n",
      " 24  product_category_name          113193 non-null  object        \n",
      " 25  product_name_lenght            113193 non-null  float64       \n",
      " 26  product_description_lenght     113193 non-null  float64       \n",
      " 27  product_photos_qty             113193 non-null  float64       \n",
      " 28  product_weight_g               113193 non-null  float64       \n",
      " 29  payment_sequential             113193 non-null  int64         \n",
      " 30  payment_type                   113193 non-null  object        \n",
      " 31  payment_installments           113193 non-null  int64         \n",
      " 32  payment_value                  113193 non-null  float64       \n",
      " 33  seller_zip_code_prefix         113193 non-null  int64         \n",
      " 34  seller_city                    113193 non-null  object        \n",
      " 35  seller_state                   113193 non-null  object        \n",
      " 36  product_category_name_english  113193 non-null  object        \n",
      " 37  product_category               113193 non-null  object        \n",
      " 38  product_volume                 113193 non-null  float64       \n",
      "dtypes: datetime64[ns](5), float64(8), int64(6), object(20)\n",
      "memory usage: 33.7+ MB\n"
     ]
    }
   ],
   "source": [
    "df.info()"
   ]
  },
  {
   "cell_type": "markdown",
   "metadata": {},
   "source": [
    "Extract estimated and actual delivery duration in days\n",
    "\n",
    "Extract shipping days"
   ]
  },
  {
   "cell_type": "code",
   "execution_count": 74,
   "metadata": {},
   "outputs": [],
   "source": [
    "df['estimated_days_since_purchase'] = (df['order_estimated_delivery_date'] - df['order_purchase_timestamp']).dt.days"
   ]
  },
  {
   "cell_type": "code",
   "execution_count": 75,
   "metadata": {},
   "outputs": [
    {
     "data": {
      "text/plain": [
       "0         19\n",
       "1         24\n",
       "2         24\n",
       "3         27\n",
       "4         16\n",
       "          ..\n",
       "113188    17\n",
       "113189    15\n",
       "113190    23\n",
       "113191    31\n",
       "113192    19\n",
       "Name: estimated_days_since_purchase, Length: 113135, dtype: int64"
      ]
     },
     "execution_count": 75,
     "metadata": {},
     "output_type": "execute_result"
    }
   ],
   "source": [
    "df['estimated_days_since_purchase']"
   ]
  },
  {
   "cell_type": "code",
   "execution_count": 64,
   "metadata": {},
   "outputs": [
    {
     "data": {
      "text/plain": [
       "array([  8,  16,  26,  14,  11,  13,   1,   5,  19,   7,   9,   3,  30,\n",
       "         6,  10,  12,  29,  23,  31,   4,  21,  18,  39,   2,  15,  48,\n",
       "        28,  34,  24,  50,  20,  53,  17,  42,  25,  51,  41,  43,  27,\n",
       "        44,  49,  73,  37,  40, 103,  57,  38,  22,  84,  33,  68,  32,\n",
       "        47,  35,  98,  77,  45,  58,  36,  55,  46, 104,  52,  56,  72,\n",
       "        59, 195, 141,  69,  60, 173, 136, 167,  62,  54,  74,   0,  66,\n",
       "        64,  65,  76, 135, 142,  78,  63,  75,  86, 138,  96,  70,  88,\n",
       "        67,  71,  99,  97,  94, 194, 117, 105, 174,  61,  83,  79, 110,\n",
       "        89, 115,  80, 186,  91,  85, 182, 101, 109, 145, 172,  92, 130,\n",
       "       187, 181, 131, 189,  81, 148, 126, 143, 108, 188, 132, 191, 175,\n",
       "        82, 208, 165, 166, 106,  87, 168, 133, 107,  90, 124, 100, 118])"
      ]
     },
     "execution_count": 64,
     "metadata": {},
     "output_type": "execute_result"
    }
   ],
   "source": [
    "df['arrival_days'] = (df['order_delivered_customer_date'] - df['order_purchase_timestamp']).dt.days\n",
    "df['arrival_days'].unique()\n"
   ]
  },
  {
   "cell_type": "code",
   "execution_count": 65,
   "metadata": {},
   "outputs": [
    {
     "data": {
      "text/plain": [
       "array([  1,  13,   3,   0,  10,   9,   7,   2,  17,   8,   5,  25,   4,\n",
       "         6,  27,  15,  14,  11,  12,  16,  18,  26,  42,  19,  48,  30,\n",
       "        51,  39,  23,  50,  40,  21,  41,  20,  43,  67,  34, 100,  56,\n",
       "        36,  37,  22,  28,  31,  33,  24,  66,  32,  29,  97,  35,  44,\n",
       "       104,  54,  68,  45,  55, 188,  38, 132,  46,  47,  63,  58, 167,\n",
       "        53,  49, 134,  99,  72, 166,  -2,  62,  60,  65,  52,  82,  59,\n",
       "        75, 130, 139,  77,  57,  69,  83, 136,  89,  64,  91,  96,  70,\n",
       "        71,  -1, 194, 111, 103, 172,  78,  61,  84, 110, 178, 181,  86,\n",
       "        -8,  76, 180,  93,  79,  -6, 101, 143,  -3, 169,  -5,  73,  92,\n",
       "       127, 182, 128, 186,  94,  98, 145, 123,  80, 106, 187, 129, 157,\n",
       "       171, 205, 190, 162,  -7, 165, 138,  95, 102,  74,  87, 122, -17,\n",
       "       117])"
      ]
     },
     "execution_count": 65,
     "metadata": {},
     "output_type": "execute_result"
    }
   ],
   "source": [
    "df['shipping_days'] = (df['order_delivered_customer_date'] - df['order_delivered_carrier_date']).dt.days\n",
    "df['shipping_days'].unique()\n"
   ]
  },
  {
   "cell_type": "markdown",
   "metadata": {},
   "source": [
    "Drop inconsistent dates where \"order_delivered_carrier_date\" is greater than \"order_delivered_customer_date\"¶\n"
   ]
  },
  {
   "cell_type": "code",
   "execution_count": 66,
   "metadata": {},
   "outputs": [],
   "source": [
    "df.drop((df[df.shipping_days < 0]).index, inplace=True)\n"
   ]
  },
  {
   "cell_type": "code",
   "execution_count": 76,
   "metadata": {},
   "outputs": [
    {
     "data": {
      "text/html": [
       "<div>\n",
       "<style scoped>\n",
       "    .dataframe tbody tr th:only-of-type {\n",
       "        vertical-align: middle;\n",
       "    }\n",
       "\n",
       "    .dataframe tbody tr th {\n",
       "        vertical-align: top;\n",
       "    }\n",
       "\n",
       "    .dataframe thead th {\n",
       "        text-align: right;\n",
       "    }\n",
       "</style>\n",
       "<table border=\"1\" class=\"dataframe\">\n",
       "  <thead>\n",
       "    <tr style=\"text-align: right;\">\n",
       "      <th></th>\n",
       "      <th>estimated_days_since_purchase</th>\n",
       "      <th>arrival_days</th>\n",
       "      <th>shipping_days</th>\n",
       "    </tr>\n",
       "  </thead>\n",
       "  <tbody>\n",
       "    <tr>\n",
       "      <th>count</th>\n",
       "      <td>113135.000000</td>\n",
       "      <td>113135.000000</td>\n",
       "      <td>113135.000000</td>\n",
       "    </tr>\n",
       "    <tr>\n",
       "      <th>mean</th>\n",
       "      <td>23.469855</td>\n",
       "      <td>11.979626</td>\n",
       "      <td>8.721280</td>\n",
       "    </tr>\n",
       "    <tr>\n",
       "      <th>std</th>\n",
       "      <td>8.825454</td>\n",
       "      <td>9.362979</td>\n",
       "      <td>8.537984</td>\n",
       "    </tr>\n",
       "    <tr>\n",
       "      <th>min</th>\n",
       "      <td>2.000000</td>\n",
       "      <td>0.000000</td>\n",
       "      <td>0.000000</td>\n",
       "    </tr>\n",
       "    <tr>\n",
       "      <th>25%</th>\n",
       "      <td>18.000000</td>\n",
       "      <td>6.000000</td>\n",
       "      <td>4.000000</td>\n",
       "    </tr>\n",
       "    <tr>\n",
       "      <th>50%</th>\n",
       "      <td>23.000000</td>\n",
       "      <td>10.000000</td>\n",
       "      <td>7.000000</td>\n",
       "    </tr>\n",
       "    <tr>\n",
       "      <th>75%</th>\n",
       "      <td>28.000000</td>\n",
       "      <td>15.000000</td>\n",
       "      <td>11.000000</td>\n",
       "    </tr>\n",
       "    <tr>\n",
       "      <th>max</th>\n",
       "      <td>155.000000</td>\n",
       "      <td>208.000000</td>\n",
       "      <td>205.000000</td>\n",
       "    </tr>\n",
       "  </tbody>\n",
       "</table>\n",
       "</div>"
      ],
      "text/plain": [
       "       estimated_days_since_purchase   arrival_days  shipping_days\n",
       "count                  113135.000000  113135.000000  113135.000000\n",
       "mean                       23.469855      11.979626       8.721280\n",
       "std                         8.825454       9.362979       8.537984\n",
       "min                         2.000000       0.000000       0.000000\n",
       "25%                        18.000000       6.000000       4.000000\n",
       "50%                        23.000000      10.000000       7.000000\n",
       "75%                        28.000000      15.000000      11.000000\n",
       "max                       155.000000     208.000000     205.000000"
      ]
     },
     "execution_count": 76,
     "metadata": {},
     "output_type": "execute_result"
    }
   ],
   "source": [
    "df[['estimated_days_since_purchase', 'arrival_days', 'shipping_days']].describe()"
   ]
  },
  {
   "cell_type": "code",
   "execution_count": 70,
   "metadata": {},
   "outputs": [
    {
     "name": "stdout",
     "output_type": "stream",
     "text": [
      "<class 'pandas.core.frame.DataFrame'>\n",
      "Index: 113135 entries, 0 to 113192\n",
      "Data columns (total 42 columns):\n",
      " #   Column                         Non-Null Count   Dtype         \n",
      "---  ------                         --------------   -----         \n",
      " 0   customer_id                    113135 non-null  object        \n",
      " 1   customer_unique_id             113135 non-null  object        \n",
      " 2   customer_zip_code_prefix       113135 non-null  int64         \n",
      " 3   customer_city                  113135 non-null  object        \n",
      " 4   customer_state                 113135 non-null  object        \n",
      " 5   order_id                       113135 non-null  object        \n",
      " 6   order_status                   113135 non-null  object        \n",
      " 7   order_purchase_timestamp       113135 non-null  datetime64[ns]\n",
      " 8   order_approved_at              113135 non-null  object        \n",
      " 9   order_delivered_carrier_date   113135 non-null  datetime64[ns]\n",
      " 10  order_delivered_customer_date  113135 non-null  datetime64[ns]\n",
      " 11  order_estimated_delivery_date  113135 non-null  datetime64[ns]\n",
      " 12  review_id                      113135 non-null  object        \n",
      " 13  review_score                   113135 non-null  int64         \n",
      " 14  review_comment_title           13493 non-null   object        \n",
      " 15  review_comment_message         47324 non-null   object        \n",
      " 16  review_creation_date           113135 non-null  object        \n",
      " 17  review_answer_timestamp        113135 non-null  object        \n",
      " 18  order_item_id                  113135 non-null  int64         \n",
      " 19  product_id                     113135 non-null  object        \n",
      " 20  seller_id                      113135 non-null  object        \n",
      " 21  shipping_limit_date            113135 non-null  datetime64[ns]\n",
      " 22  price                          113135 non-null  float64       \n",
      " 23  freight_value                  113135 non-null  float64       \n",
      " 24  product_category_name          113135 non-null  object        \n",
      " 25  product_name_lenght            113135 non-null  float64       \n",
      " 26  product_description_lenght     113135 non-null  float64       \n",
      " 27  product_photos_qty             113135 non-null  float64       \n",
      " 28  product_weight_g               113135 non-null  float64       \n",
      " 29  payment_sequential             113135 non-null  int64         \n",
      " 30  payment_type                   113135 non-null  object        \n",
      " 31  payment_installments           113135 non-null  int64         \n",
      " 32  payment_value                  113135 non-null  float64       \n",
      " 33  seller_zip_code_prefix         113135 non-null  int64         \n",
      " 34  seller_city                    113135 non-null  object        \n",
      " 35  seller_state                   113135 non-null  object        \n",
      " 36  product_category_name_english  113135 non-null  object        \n",
      " 37  product_category               113135 non-null  object        \n",
      " 38  product_volume                 113135 non-null  float64       \n",
      " 39  estimated_days                 113135 non-null  int64         \n",
      " 40  arrival_days                   113135 non-null  int64         \n",
      " 41  shipping_days                  113135 non-null  int64         \n",
      "dtypes: datetime64[ns](5), float64(8), int64(9), object(20)\n",
      "memory usage: 37.1+ MB\n"
     ]
    }
   ],
   "source": [
    "df.info()"
   ]
  },
  {
   "cell_type": "markdown",
   "metadata": {},
   "source": [
    "Create shipping + arrival statuses based on early or late"
   ]
  },
  {
   "cell_type": "code",
   "execution_count": 71,
   "metadata": {},
   "outputs": [
    {
     "data": {
      "text/plain": [
       "seller_to_carrier_status\n",
       "OnTime    102767\n",
       "Late       10368\n",
       "Name: count, dtype: int64"
      ]
     },
     "execution_count": 71,
     "metadata": {},
     "output_type": "execute_result"
    }
   ],
   "source": [
    "df['seller_to_carrier_status'] = (df['shipping_limit_date'] - df['order_delivered_carrier_date']).dt.days\n",
    "df['seller_to_carrier_status'] = df['seller_to_carrier_status'].apply(lambda x : 'OnTime' if x >= 0 else 'Late')\n",
    "df['seller_to_carrier_status'].value_counts()"
   ]
  },
  {
   "cell_type": "code",
   "execution_count": 72,
   "metadata": {},
   "outputs": [
    {
     "data": {
      "text/plain": [
       "arrival_status\n",
       "OnTime    104421\n",
       "Late        8714\n",
       "Name: count, dtype: int64"
      ]
     },
     "execution_count": 72,
     "metadata": {},
     "output_type": "execute_result"
    }
   ],
   "source": [
    "df['arrival_status'] = (df['order_estimated_delivery_date'] - df['order_delivered_customer_date']).dt.days\n",
    "df['arrival_status'] = df['arrival_status'].apply(lambda x : 'OnTime' if x >= 0 else 'Late')\n",
    "df['arrival_status'].value_counts()"
   ]
  },
  {
   "cell_type": "markdown",
   "metadata": {},
   "source": [
    "Conv"
   ]
  },
  {
   "cell_type": "code",
   "execution_count": null,
   "metadata": {},
   "outputs": [],
   "source": []
  }
 ],
 "metadata": {
  "kernelspec": {
   "display_name": "env",
   "language": "python",
   "name": "python3"
  },
  "language_info": {
   "codemirror_mode": {
    "name": "ipython",
    "version": 3
   },
   "file_extension": ".py",
   "mimetype": "text/x-python",
   "name": "python",
   "nbconvert_exporter": "python",
   "pygments_lexer": "ipython3",
   "version": "3.12.2"
  }
 },
 "nbformat": 4,
 "nbformat_minor": 2
}
