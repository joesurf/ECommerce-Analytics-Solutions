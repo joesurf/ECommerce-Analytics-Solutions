{
 "cells": [
  {
   "cell_type": "code",
   "execution_count": 68,
   "metadata": {},
   "outputs": [],
   "source": [
    "import pandas as pd\n",
    "from sklearn.model_selection import train_test_split\n",
    "from sklearn.preprocessing import StandardScaler\n",
    "from sklearn.linear_model import LogisticRegression\n",
    "from sklearn.metrics import classification_report, accuracy_score, confusion_matrix, classification_report, f1_score, roc_auc_score, roc_curve, precision_score, recall_score\n",
    "from sklearn.ensemble import RandomForestClassifier\n",
    "from sklearn.model_selection import GridSearchCV\n",
    "import seaborn as sns\n",
    "import matplotlib.pyplot as plt"
   ]
  },
  {
   "cell_type": "code",
   "execution_count": 19,
   "metadata": {},
   "outputs": [
    {
     "data": {
      "text/plain": [
       "Index(['Unnamed: 0', 'customer_id', 'customer_unique_id',\n",
       "       'customer_zip_code_prefix', 'customer_city', 'customer_state',\n",
       "       'order_id', 'order_status', 'order_purchase_timestamp',\n",
       "       'order_approved_at', 'order_delivered_carrier_date',\n",
       "       'order_delivered_customer_date', 'order_estimated_delivery_date',\n",
       "       'review_id', 'review_score', 'review_comment_title',\n",
       "       'review_comment_message', 'review_creation_date',\n",
       "       'review_answer_timestamp', 'order_item_id', 'product_id', 'seller_id',\n",
       "       'shipping_limit_date', 'price', 'freight_value',\n",
       "       'product_category_name', 'product_name_lenght',\n",
       "       'product_description_lenght', 'product_photos_qty', 'product_weight_g',\n",
       "       'product_length_cm', 'product_height_cm', 'product_width_cm',\n",
       "       'payment_sequential', 'payment_type', 'payment_installments',\n",
       "       'payment_value', 'seller_zip_code_prefix', 'seller_city',\n",
       "       'seller_state', 'product_category_name_english', 'product_category',\n",
       "       'latest_purchase_date', 'days_since_last_purchase',\n",
       "       'purchase_interval'],\n",
       "      dtype='object')"
      ]
     },
     "execution_count": 19,
     "metadata": {},
     "output_type": "execute_result"
    }
   ],
   "source": [
    "data= pd.read_csv('processed_data.csv')\n",
    "data.columns"
   ]
  },
  {
   "cell_type": "code",
   "execution_count": 20,
   "metadata": {},
   "outputs": [],
   "source": [
    "df = data[['customer_state', 'review_score', 'price', 'freight_value','payment_type', 'payment_installments',\n",
    "       'payment_value', 'seller_state', 'product_category','purchase_interval']]"
   ]
  },
  {
   "cell_type": "markdown",
   "metadata": {},
   "source": [
    "# Feature Engineering"
   ]
  },
  {
   "cell_type": "markdown",
   "metadata": {},
   "source": [
    "## Customer_state: SP, MG, RJ, Others"
   ]
  },
  {
   "cell_type": "code",
   "execution_count": 21,
   "metadata": {},
   "outputs": [
    {
     "name": "stderr",
     "output_type": "stream",
     "text": [
      "C:\\Users\\user1\\AppData\\Local\\Temp\\ipykernel_5364\\2079533851.py:1: SettingWithCopyWarning: \n",
      "A value is trying to be set on a copy of a slice from a DataFrame.\n",
      "Try using .loc[row_indexer,col_indexer] = value instead\n",
      "\n",
      "See the caveats in the documentation: https://pandas.pydata.org/pandas-docs/stable/user_guide/indexing.html#returning-a-view-versus-a-copy\n",
      "  df['customer_state'] = df['customer_state'].apply(lambda x: x if x in ['SP', 'MG', 'RJ'] else 'Others')\n"
     ]
    }
   ],
   "source": [
    "df['customer_state'] = df['customer_state'].apply(lambda x: x if x in ['SP', 'MG', 'RJ'] else 'Others')"
   ]
  },
  {
   "cell_type": "markdown",
   "metadata": {},
   "source": [
    "## Seller_state: SP, MG, PR, Others"
   ]
  },
  {
   "cell_type": "code",
   "execution_count": 22,
   "metadata": {},
   "outputs": [
    {
     "data": {
      "text/plain": [
       "SP    82417\n",
       "MG     9014\n",
       "PR     8964\n",
       "RJ     4906\n",
       "SC     4221\n",
       "Name: seller_state, dtype: int64"
      ]
     },
     "execution_count": 22,
     "metadata": {},
     "output_type": "execute_result"
    }
   ],
   "source": [
    "df['seller_state'].value_counts().head(5)"
   ]
  },
  {
   "cell_type": "code",
   "execution_count": 23,
   "metadata": {},
   "outputs": [
    {
     "name": "stderr",
     "output_type": "stream",
     "text": [
      "C:\\Users\\user1\\AppData\\Local\\Temp\\ipykernel_5364\\1912853502.py:1: SettingWithCopyWarning: \n",
      "A value is trying to be set on a copy of a slice from a DataFrame.\n",
      "Try using .loc[row_indexer,col_indexer] = value instead\n",
      "\n",
      "See the caveats in the documentation: https://pandas.pydata.org/pandas-docs/stable/user_guide/indexing.html#returning-a-view-versus-a-copy\n",
      "  df['seller_state'] = df['seller_state'].apply(lambda x: x if x in ['SP', 'MG', 'PR'] else 'Others')\n"
     ]
    }
   ],
   "source": [
    "df['seller_state'] = df['seller_state'].apply(lambda x: x if x in ['SP', 'MG', 'PR'] else 'Others')"
   ]
  },
  {
   "cell_type": "markdown",
   "metadata": {},
   "source": [
    "# One-hot encode categorical variables"
   ]
  },
  {
   "cell_type": "code",
   "execution_count": 24,
   "metadata": {},
   "outputs": [],
   "source": [
    "columns_to_encode = ['customer_state', 'payment_type', 'seller_state', 'product_category']\n",
    "df_encoded = pd.get_dummies(df, columns=columns_to_encode)"
   ]
  },
  {
   "cell_type": "code",
   "execution_count": 25,
   "metadata": {},
   "outputs": [
    {
     "data": {
      "text/html": [
       "<div>\n",
       "<style scoped>\n",
       "    .dataframe tbody tr th:only-of-type {\n",
       "        vertical-align: middle;\n",
       "    }\n",
       "\n",
       "    .dataframe tbody tr th {\n",
       "        vertical-align: top;\n",
       "    }\n",
       "\n",
       "    .dataframe thead th {\n",
       "        text-align: right;\n",
       "    }\n",
       "</style>\n",
       "<table border=\"1\" class=\"dataframe\">\n",
       "  <thead>\n",
       "    <tr style=\"text-align: right;\">\n",
       "      <th></th>\n",
       "      <th>review_score</th>\n",
       "      <th>price</th>\n",
       "      <th>freight_value</th>\n",
       "      <th>payment_installments</th>\n",
       "      <th>payment_value</th>\n",
       "      <th>purchase_interval</th>\n",
       "      <th>customer_state_MG</th>\n",
       "      <th>customer_state_Others</th>\n",
       "      <th>customer_state_RJ</th>\n",
       "      <th>customer_state_SP</th>\n",
       "      <th>...</th>\n",
       "      <th>seller_state_SP</th>\n",
       "      <th>product_category_Beauty &amp; Health</th>\n",
       "      <th>product_category_Books &amp; Stationery</th>\n",
       "      <th>product_category_Electronics</th>\n",
       "      <th>product_category_Entertainment</th>\n",
       "      <th>product_category_Fashion</th>\n",
       "      <th>product_category_Food &amp; Drinks</th>\n",
       "      <th>product_category_Furniture</th>\n",
       "      <th>product_category_Home &amp; Garden</th>\n",
       "      <th>product_category_Industry &amp; Construction</th>\n",
       "    </tr>\n",
       "  </thead>\n",
       "  <tbody>\n",
       "    <tr>\n",
       "      <th>0</th>\n",
       "      <td>4</td>\n",
       "      <td>124.99</td>\n",
       "      <td>21.88</td>\n",
       "      <td>2</td>\n",
       "      <td>146.87</td>\n",
       "      <td>More than 1 year</td>\n",
       "      <td>0</td>\n",
       "      <td>0</td>\n",
       "      <td>0</td>\n",
       "      <td>1</td>\n",
       "      <td>...</td>\n",
       "      <td>1</td>\n",
       "      <td>0</td>\n",
       "      <td>0</td>\n",
       "      <td>0</td>\n",
       "      <td>0</td>\n",
       "      <td>0</td>\n",
       "      <td>0</td>\n",
       "      <td>1</td>\n",
       "      <td>0</td>\n",
       "      <td>0</td>\n",
       "    </tr>\n",
       "    <tr>\n",
       "      <th>1</th>\n",
       "      <td>1</td>\n",
       "      <td>112.99</td>\n",
       "      <td>24.90</td>\n",
       "      <td>1</td>\n",
       "      <td>275.79</td>\n",
       "      <td>6 months-1 year</td>\n",
       "      <td>0</td>\n",
       "      <td>1</td>\n",
       "      <td>0</td>\n",
       "      <td>0</td>\n",
       "      <td>...</td>\n",
       "      <td>1</td>\n",
       "      <td>0</td>\n",
       "      <td>0</td>\n",
       "      <td>0</td>\n",
       "      <td>0</td>\n",
       "      <td>0</td>\n",
       "      <td>0</td>\n",
       "      <td>1</td>\n",
       "      <td>0</td>\n",
       "      <td>0</td>\n",
       "    </tr>\n",
       "    <tr>\n",
       "      <th>2</th>\n",
       "      <td>1</td>\n",
       "      <td>112.99</td>\n",
       "      <td>24.90</td>\n",
       "      <td>1</td>\n",
       "      <td>275.79</td>\n",
       "      <td>6 months-1 year</td>\n",
       "      <td>0</td>\n",
       "      <td>1</td>\n",
       "      <td>0</td>\n",
       "      <td>0</td>\n",
       "      <td>...</td>\n",
       "      <td>1</td>\n",
       "      <td>0</td>\n",
       "      <td>0</td>\n",
       "      <td>0</td>\n",
       "      <td>0</td>\n",
       "      <td>0</td>\n",
       "      <td>0</td>\n",
       "      <td>1</td>\n",
       "      <td>0</td>\n",
       "      <td>0</td>\n",
       "    </tr>\n",
       "    <tr>\n",
       "      <th>3</th>\n",
       "      <td>3</td>\n",
       "      <td>124.99</td>\n",
       "      <td>15.62</td>\n",
       "      <td>7</td>\n",
       "      <td>140.61</td>\n",
       "      <td>More than 1 year</td>\n",
       "      <td>0</td>\n",
       "      <td>1</td>\n",
       "      <td>0</td>\n",
       "      <td>0</td>\n",
       "      <td>...</td>\n",
       "      <td>1</td>\n",
       "      <td>0</td>\n",
       "      <td>0</td>\n",
       "      <td>0</td>\n",
       "      <td>0</td>\n",
       "      <td>0</td>\n",
       "      <td>0</td>\n",
       "      <td>1</td>\n",
       "      <td>0</td>\n",
       "      <td>0</td>\n",
       "    </tr>\n",
       "    <tr>\n",
       "      <th>4</th>\n",
       "      <td>4</td>\n",
       "      <td>106.99</td>\n",
       "      <td>30.59</td>\n",
       "      <td>10</td>\n",
       "      <td>137.58</td>\n",
       "      <td>6 months-1 year</td>\n",
       "      <td>0</td>\n",
       "      <td>0</td>\n",
       "      <td>1</td>\n",
       "      <td>0</td>\n",
       "      <td>...</td>\n",
       "      <td>1</td>\n",
       "      <td>0</td>\n",
       "      <td>0</td>\n",
       "      <td>0</td>\n",
       "      <td>0</td>\n",
       "      <td>0</td>\n",
       "      <td>0</td>\n",
       "      <td>1</td>\n",
       "      <td>0</td>\n",
       "      <td>0</td>\n",
       "    </tr>\n",
       "    <tr>\n",
       "      <th>...</th>\n",
       "      <td>...</td>\n",
       "      <td>...</td>\n",
       "      <td>...</td>\n",
       "      <td>...</td>\n",
       "      <td>...</td>\n",
       "      <td>...</td>\n",
       "      <td>...</td>\n",
       "      <td>...</td>\n",
       "      <td>...</td>\n",
       "      <td>...</td>\n",
       "      <td>...</td>\n",
       "      <td>...</td>\n",
       "      <td>...</td>\n",
       "      <td>...</td>\n",
       "      <td>...</td>\n",
       "      <td>...</td>\n",
       "      <td>...</td>\n",
       "      <td>...</td>\n",
       "      <td>...</td>\n",
       "      <td>...</td>\n",
       "      <td>...</td>\n",
       "    </tr>\n",
       "    <tr>\n",
       "      <th>115604</th>\n",
       "      <td>5</td>\n",
       "      <td>193.00</td>\n",
       "      <td>39.19</td>\n",
       "      <td>10</td>\n",
       "      <td>232.19</td>\n",
       "      <td>More than 1 year</td>\n",
       "      <td>0</td>\n",
       "      <td>1</td>\n",
       "      <td>0</td>\n",
       "      <td>0</td>\n",
       "      <td>...</td>\n",
       "      <td>0</td>\n",
       "      <td>0</td>\n",
       "      <td>0</td>\n",
       "      <td>0</td>\n",
       "      <td>0</td>\n",
       "      <td>0</td>\n",
       "      <td>0</td>\n",
       "      <td>0</td>\n",
       "      <td>1</td>\n",
       "      <td>0</td>\n",
       "    </tr>\n",
       "    <tr>\n",
       "      <th>115605</th>\n",
       "      <td>4</td>\n",
       "      <td>389.00</td>\n",
       "      <td>37.70</td>\n",
       "      <td>8</td>\n",
       "      <td>426.70</td>\n",
       "      <td>3-6 months</td>\n",
       "      <td>0</td>\n",
       "      <td>1</td>\n",
       "      <td>0</td>\n",
       "      <td>0</td>\n",
       "      <td>...</td>\n",
       "      <td>0</td>\n",
       "      <td>0</td>\n",
       "      <td>0</td>\n",
       "      <td>0</td>\n",
       "      <td>0</td>\n",
       "      <td>0</td>\n",
       "      <td>0</td>\n",
       "      <td>0</td>\n",
       "      <td>1</td>\n",
       "      <td>0</td>\n",
       "    </tr>\n",
       "    <tr>\n",
       "      <th>115606</th>\n",
       "      <td>5</td>\n",
       "      <td>139.00</td>\n",
       "      <td>21.46</td>\n",
       "      <td>3</td>\n",
       "      <td>160.46</td>\n",
       "      <td>More than 1 year</td>\n",
       "      <td>0</td>\n",
       "      <td>0</td>\n",
       "      <td>0</td>\n",
       "      <td>1</td>\n",
       "      <td>...</td>\n",
       "      <td>0</td>\n",
       "      <td>0</td>\n",
       "      <td>0</td>\n",
       "      <td>0</td>\n",
       "      <td>0</td>\n",
       "      <td>0</td>\n",
       "      <td>0</td>\n",
       "      <td>0</td>\n",
       "      <td>1</td>\n",
       "      <td>0</td>\n",
       "    </tr>\n",
       "    <tr>\n",
       "      <th>115607</th>\n",
       "      <td>5</td>\n",
       "      <td>129.00</td>\n",
       "      <td>26.18</td>\n",
       "      <td>2</td>\n",
       "      <td>55.18</td>\n",
       "      <td>More than 1 year</td>\n",
       "      <td>1</td>\n",
       "      <td>0</td>\n",
       "      <td>0</td>\n",
       "      <td>0</td>\n",
       "      <td>...</td>\n",
       "      <td>0</td>\n",
       "      <td>0</td>\n",
       "      <td>0</td>\n",
       "      <td>0</td>\n",
       "      <td>0</td>\n",
       "      <td>0</td>\n",
       "      <td>0</td>\n",
       "      <td>0</td>\n",
       "      <td>1</td>\n",
       "      <td>0</td>\n",
       "    </tr>\n",
       "    <tr>\n",
       "      <th>115608</th>\n",
       "      <td>5</td>\n",
       "      <td>129.00</td>\n",
       "      <td>26.18</td>\n",
       "      <td>1</td>\n",
       "      <td>100.00</td>\n",
       "      <td>More than 1 year</td>\n",
       "      <td>1</td>\n",
       "      <td>0</td>\n",
       "      <td>0</td>\n",
       "      <td>0</td>\n",
       "      <td>...</td>\n",
       "      <td>0</td>\n",
       "      <td>0</td>\n",
       "      <td>0</td>\n",
       "      <td>0</td>\n",
       "      <td>0</td>\n",
       "      <td>0</td>\n",
       "      <td>0</td>\n",
       "      <td>0</td>\n",
       "      <td>1</td>\n",
       "      <td>0</td>\n",
       "    </tr>\n",
       "  </tbody>\n",
       "</table>\n",
       "<p>115609 rows × 27 columns</p>\n",
       "</div>"
      ],
      "text/plain": [
       "        review_score   price  freight_value  payment_installments  \\\n",
       "0                  4  124.99          21.88                     2   \n",
       "1                  1  112.99          24.90                     1   \n",
       "2                  1  112.99          24.90                     1   \n",
       "3                  3  124.99          15.62                     7   \n",
       "4                  4  106.99          30.59                    10   \n",
       "...              ...     ...            ...                   ...   \n",
       "115604             5  193.00          39.19                    10   \n",
       "115605             4  389.00          37.70                     8   \n",
       "115606             5  139.00          21.46                     3   \n",
       "115607             5  129.00          26.18                     2   \n",
       "115608             5  129.00          26.18                     1   \n",
       "\n",
       "        payment_value purchase_interval  customer_state_MG  \\\n",
       "0              146.87  More than 1 year                  0   \n",
       "1              275.79   6 months-1 year                  0   \n",
       "2              275.79   6 months-1 year                  0   \n",
       "3              140.61  More than 1 year                  0   \n",
       "4              137.58   6 months-1 year                  0   \n",
       "...               ...               ...                ...   \n",
       "115604         232.19  More than 1 year                  0   \n",
       "115605         426.70        3-6 months                  0   \n",
       "115606         160.46  More than 1 year                  0   \n",
       "115607          55.18  More than 1 year                  1   \n",
       "115608         100.00  More than 1 year                  1   \n",
       "\n",
       "        customer_state_Others  customer_state_RJ  customer_state_SP  ...  \\\n",
       "0                           0                  0                  1  ...   \n",
       "1                           1                  0                  0  ...   \n",
       "2                           1                  0                  0  ...   \n",
       "3                           1                  0                  0  ...   \n",
       "4                           0                  1                  0  ...   \n",
       "...                       ...                ...                ...  ...   \n",
       "115604                      1                  0                  0  ...   \n",
       "115605                      1                  0                  0  ...   \n",
       "115606                      0                  0                  1  ...   \n",
       "115607                      0                  0                  0  ...   \n",
       "115608                      0                  0                  0  ...   \n",
       "\n",
       "        seller_state_SP  product_category_Beauty & Health  \\\n",
       "0                     1                                 0   \n",
       "1                     1                                 0   \n",
       "2                     1                                 0   \n",
       "3                     1                                 0   \n",
       "4                     1                                 0   \n",
       "...                 ...                               ...   \n",
       "115604                0                                 0   \n",
       "115605                0                                 0   \n",
       "115606                0                                 0   \n",
       "115607                0                                 0   \n",
       "115608                0                                 0   \n",
       "\n",
       "        product_category_Books & Stationery  product_category_Electronics  \\\n",
       "0                                         0                             0   \n",
       "1                                         0                             0   \n",
       "2                                         0                             0   \n",
       "3                                         0                             0   \n",
       "4                                         0                             0   \n",
       "...                                     ...                           ...   \n",
       "115604                                    0                             0   \n",
       "115605                                    0                             0   \n",
       "115606                                    0                             0   \n",
       "115607                                    0                             0   \n",
       "115608                                    0                             0   \n",
       "\n",
       "        product_category_Entertainment  product_category_Fashion  \\\n",
       "0                                    0                         0   \n",
       "1                                    0                         0   \n",
       "2                                    0                         0   \n",
       "3                                    0                         0   \n",
       "4                                    0                         0   \n",
       "...                                ...                       ...   \n",
       "115604                               0                         0   \n",
       "115605                               0                         0   \n",
       "115606                               0                         0   \n",
       "115607                               0                         0   \n",
       "115608                               0                         0   \n",
       "\n",
       "        product_category_Food & Drinks  product_category_Furniture  \\\n",
       "0                                    0                           1   \n",
       "1                                    0                           1   \n",
       "2                                    0                           1   \n",
       "3                                    0                           1   \n",
       "4                                    0                           1   \n",
       "...                                ...                         ...   \n",
       "115604                               0                           0   \n",
       "115605                               0                           0   \n",
       "115606                               0                           0   \n",
       "115607                               0                           0   \n",
       "115608                               0                           0   \n",
       "\n",
       "        product_category_Home & Garden  \\\n",
       "0                                    0   \n",
       "1                                    0   \n",
       "2                                    0   \n",
       "3                                    0   \n",
       "4                                    0   \n",
       "...                                ...   \n",
       "115604                               1   \n",
       "115605                               1   \n",
       "115606                               1   \n",
       "115607                               1   \n",
       "115608                               1   \n",
       "\n",
       "        product_category_Industry & Construction  \n",
       "0                                              0  \n",
       "1                                              0  \n",
       "2                                              0  \n",
       "3                                              0  \n",
       "4                                              0  \n",
       "...                                          ...  \n",
       "115604                                         0  \n",
       "115605                                         0  \n",
       "115606                                         0  \n",
       "115607                                         0  \n",
       "115608                                         0  \n",
       "\n",
       "[115609 rows x 27 columns]"
      ]
     },
     "execution_count": 25,
     "metadata": {},
     "output_type": "execute_result"
    }
   ],
   "source": [
    "df_encoded"
   ]
  },
  {
   "cell_type": "markdown",
   "metadata": {},
   "source": [
    "# Train test split"
   ]
  },
  {
   "cell_type": "code",
   "execution_count": 27,
   "metadata": {},
   "outputs": [
    {
     "name": "stdout",
     "output_type": "stream",
     "text": [
      "Training set - Features: (92487, 26)  Target: (92487,)\n",
      "Testing set - Features: (23122, 26)  Target: (23122,)\n"
     ]
    }
   ],
   "source": [
    "X = df_encoded.drop(columns=['purchase_interval'])\n",
    "y = df_encoded['purchase_interval']  \n",
    "\n",
    "X_train, X_test, y_train, y_test = train_test_split(X, y, test_size=0.2, random_state=42) \n",
    "print(\"Training set - Features:\", X_train.shape, \" Target:\", y_train.shape)\n",
    "print(\"Testing set - Features:\", X_test.shape, \" Target:\", y_test.shape)"
   ]
  },
  {
   "cell_type": "markdown",
   "metadata": {},
   "source": [
    "# Standardise numberical variables"
   ]
  },
  {
   "cell_type": "code",
   "execution_count": 31,
   "metadata": {},
   "outputs": [],
   "source": [
    "numerical_columns = ['review_score', 'price', 'freight_value', 'payment_installments', 'payment_value']\n",
    "\n",
    "scaler = StandardScaler()\n",
    "\n",
    "X_train[numerical_columns] = scaler.fit_transform(X_train[numerical_columns])\n",
    "X_test[numerical_columns] = scaler.transform(X_test[numerical_columns])"
   ]
  },
  {
   "cell_type": "code",
   "execution_count": 40,
   "metadata": {},
   "outputs": [
    {
     "data": {
      "text/plain": [
       "Index(['review_score', 'price', 'freight_value', 'payment_installments',\n",
       "       'payment_value', 'customer_state_MG', 'customer_state_Others',\n",
       "       'customer_state_RJ', 'customer_state_SP', 'payment_type_boleto',\n",
       "       'payment_type_credit_card', 'payment_type_debit_card',\n",
       "       'payment_type_voucher', 'seller_state_MG', 'seller_state_Others',\n",
       "       'seller_state_PR', 'seller_state_SP',\n",
       "       'product_category_Beauty & Health',\n",
       "       'product_category_Books & Stationery', 'product_category_Electronics',\n",
       "       'product_category_Entertainment', 'product_category_Fashion',\n",
       "       'product_category_Food & Drinks', 'product_category_Furniture',\n",
       "       'product_category_Home & Garden',\n",
       "       'product_category_Industry & Construction'],\n",
       "      dtype='object')"
      ]
     },
     "execution_count": 40,
     "metadata": {},
     "output_type": "execute_result"
    }
   ],
   "source": [
    "X_train.columns"
   ]
  },
  {
   "cell_type": "markdown",
   "metadata": {},
   "source": [
    "# Multinomidal Logistic Regression"
   ]
  },
  {
   "cell_type": "markdown",
   "metadata": {},
   "source": [
    "## Drop one dummy variable for each category to avoid multicollinearity"
   ]
  },
  {
   "cell_type": "code",
   "execution_count": 42,
   "metadata": {},
   "outputs": [],
   "source": [
    "columns_to_drop = ['customer_state_Others', 'payment_type_voucher', 'seller_state_Others', 'product_category_Home & Garden']\n",
    "X_train = X_train.drop(columns_to_drop, axis=1)\n",
    "X_test = X_test.drop(columns_to_drop, axis=1)"
   ]
  },
  {
   "cell_type": "code",
   "execution_count": 43,
   "metadata": {},
   "outputs": [
    {
     "name": "stdout",
     "output_type": "stream",
     "text": [
      "                  precision    recall  f1-score   support\n",
      "\n",
      "       0-30 days       0.20      0.00      0.00      1245\n",
      "       1-3 month       0.29      0.04      0.07      2969\n",
      "      3-6 months       0.33      0.02      0.04      4831\n",
      " 6 months-1 year       0.38      0.91      0.54      8520\n",
      "More than 1 year       0.36      0.12      0.18      5557\n",
      "\n",
      "        accuracy                           0.38     23122\n",
      "       macro avg       0.31      0.22      0.17     23122\n",
      "    weighted avg       0.34      0.38      0.26     23122\n",
      "\n"
     ]
    }
   ],
   "source": [
    "model = LogisticRegression(multi_class='multinomial', solver='lbfgs')\n",
    "model.fit(X_train, y_train)\n",
    "y_pred = model.predict(X_test)\n",
    "print(classification_report(y_test, y_pred))"
   ]
  },
  {
   "cell_type": "code",
   "execution_count": 47,
   "metadata": {},
   "outputs": [
    {
     "data": {
      "image/png": "[encoded data removed]",
      "text/plain": [
       "<Figure size 800x600 with 1 Axes>"
      ]
     },
     "metadata": {},
     "output_type": "display_data"
    }
   ],
   "source": [
    "conf_matrix = confusion_matrix(y_test, y_pred)\n",
    "\n",
    "plt.figure(figsize=(8, 6))\n",
    "sns.heatmap(conf_matrix, annot=True, fmt='d', cmap='Blues', cbar=False)\n",
    "plt.xlabel('Predicted labels')\n",
    "plt.ylabel('True labels')\n",
    "plt.title('Confusion Matrix')\n",
    "plt.show()"
   ]
  },
  {
   "cell_type": "code",
   "execution_count": 38,
   "metadata": {},
   "outputs": [
    {
     "data": {
      "text/html": [
       "<div>\n",
       "<style scoped>\n",
       "    .dataframe tbody tr th:only-of-type {\n",
       "        vertical-align: middle;\n",
       "    }\n",
       "\n",
       "    .dataframe tbody tr th {\n",
       "        vertical-align: top;\n",
       "    }\n",
       "\n",
       "    .dataframe thead th {\n",
       "        text-align: right;\n",
       "    }\n",
       "</style>\n",
       "<table border=\"1\" class=\"dataframe\">\n",
       "  <thead>\n",
       "    <tr style=\"text-align: right;\">\n",
       "      <th></th>\n",
       "      <th>Feature</th>\n",
       "      <th>coefficient</th>\n",
       "    </tr>\n",
       "  </thead>\n",
       "  <tbody>\n",
       "    <tr>\n",
       "      <th>11</th>\n",
       "      <td>payment_type_debit_card</td>\n",
       "      <td>0.661379</td>\n",
       "    </tr>\n",
       "    <tr>\n",
       "      <th>25</th>\n",
       "      <td>product_category_Industry &amp; Construction</td>\n",
       "      <td>0.573414</td>\n",
       "    </tr>\n",
       "    <tr>\n",
       "      <th>22</th>\n",
       "      <td>product_category_Food &amp; Drinks</td>\n",
       "      <td>0.493779</td>\n",
       "    </tr>\n",
       "    <tr>\n",
       "      <th>0</th>\n",
       "      <td>review_score</td>\n",
       "      <td>0.100387</td>\n",
       "    </tr>\n",
       "    <tr>\n",
       "      <th>2</th>\n",
       "      <td>freight_value</td>\n",
       "      <td>0.091265</td>\n",
       "    </tr>\n",
       "    <tr>\n",
       "      <th>8</th>\n",
       "      <td>customer_state_SP</td>\n",
       "      <td>0.076107</td>\n",
       "    </tr>\n",
       "    <tr>\n",
       "      <th>14</th>\n",
       "      <td>seller_state_Others</td>\n",
       "      <td>0.043380</td>\n",
       "    </tr>\n",
       "    <tr>\n",
       "      <th>4</th>\n",
       "      <td>payment_value</td>\n",
       "      <td>0.002417</td>\n",
       "    </tr>\n",
       "    <tr>\n",
       "      <th>24</th>\n",
       "      <td>product_category_Home &amp; Garden</td>\n",
       "      <td>-0.004783</td>\n",
       "    </tr>\n",
       "    <tr>\n",
       "      <th>3</th>\n",
       "      <td>payment_installments</td>\n",
       "      <td>-0.026910</td>\n",
       "    </tr>\n",
       "    <tr>\n",
       "      <th>1</th>\n",
       "      <td>price</td>\n",
       "      <td>-0.046711</td>\n",
       "    </tr>\n",
       "    <tr>\n",
       "      <th>17</th>\n",
       "      <td>product_category_Beauty &amp; Health</td>\n",
       "      <td>-0.059637</td>\n",
       "    </tr>\n",
       "    <tr>\n",
       "      <th>16</th>\n",
       "      <td>seller_state_SP</td>\n",
       "      <td>-0.077711</td>\n",
       "    </tr>\n",
       "    <tr>\n",
       "      <th>7</th>\n",
       "      <td>customer_state_RJ</td>\n",
       "      <td>-0.148789</td>\n",
       "    </tr>\n",
       "    <tr>\n",
       "      <th>18</th>\n",
       "      <td>product_category_Books &amp; Stationery</td>\n",
       "      <td>-0.161153</td>\n",
       "    </tr>\n",
       "    <tr>\n",
       "      <th>5</th>\n",
       "      <td>customer_state_MG</td>\n",
       "      <td>-0.162259</td>\n",
       "    </tr>\n",
       "    <tr>\n",
       "      <th>15</th>\n",
       "      <td>seller_state_PR</td>\n",
       "      <td>-0.174027</td>\n",
       "    </tr>\n",
       "    <tr>\n",
       "      <th>10</th>\n",
       "      <td>payment_type_credit_card</td>\n",
       "      <td>-0.209992</td>\n",
       "    </tr>\n",
       "    <tr>\n",
       "      <th>19</th>\n",
       "      <td>product_category_Electronics</td>\n",
       "      <td>-0.213601</td>\n",
       "    </tr>\n",
       "    <tr>\n",
       "      <th>6</th>\n",
       "      <td>customer_state_Others</td>\n",
       "      <td>-0.261162</td>\n",
       "    </tr>\n",
       "    <tr>\n",
       "      <th>13</th>\n",
       "      <td>seller_state_MG</td>\n",
       "      <td>-0.287745</td>\n",
       "    </tr>\n",
       "    <tr>\n",
       "      <th>20</th>\n",
       "      <td>product_category_Entertainment</td>\n",
       "      <td>-0.347723</td>\n",
       "    </tr>\n",
       "    <tr>\n",
       "      <th>23</th>\n",
       "      <td>product_category_Furniture</td>\n",
       "      <td>-0.370340</td>\n",
       "    </tr>\n",
       "    <tr>\n",
       "      <th>9</th>\n",
       "      <td>payment_type_boleto</td>\n",
       "      <td>-0.373147</td>\n",
       "    </tr>\n",
       "    <tr>\n",
       "      <th>21</th>\n",
       "      <td>product_category_Fashion</td>\n",
       "      <td>-0.406059</td>\n",
       "    </tr>\n",
       "    <tr>\n",
       "      <th>12</th>\n",
       "      <td>payment_type_voucher</td>\n",
       "      <td>-0.574344</td>\n",
       "    </tr>\n",
       "  </tbody>\n",
       "</table>\n",
       "</div>"
      ],
      "text/plain": [
       "                                     Feature  coefficient\n",
       "11                   payment_type_debit_card     0.661379\n",
       "25  product_category_Industry & Construction     0.573414\n",
       "22            product_category_Food & Drinks     0.493779\n",
       "0                               review_score     0.100387\n",
       "2                              freight_value     0.091265\n",
       "8                          customer_state_SP     0.076107\n",
       "14                       seller_state_Others     0.043380\n",
       "4                              payment_value     0.002417\n",
       "24            product_category_Home & Garden    -0.004783\n",
       "3                       payment_installments    -0.026910\n",
       "1                                      price    -0.046711\n",
       "17          product_category_Beauty & Health    -0.059637\n",
       "16                           seller_state_SP    -0.077711\n",
       "7                          customer_state_RJ    -0.148789\n",
       "18       product_category_Books & Stationery    -0.161153\n",
       "5                          customer_state_MG    -0.162259\n",
       "15                           seller_state_PR    -0.174027\n",
       "10                  payment_type_credit_card    -0.209992\n",
       "19              product_category_Electronics    -0.213601\n",
       "6                      customer_state_Others    -0.261162\n",
       "13                           seller_state_MG    -0.287745\n",
       "20            product_category_Entertainment    -0.347723\n",
       "23                product_category_Furniture    -0.370340\n",
       "9                        payment_type_boleto    -0.373147\n",
       "21                  product_category_Fashion    -0.406059\n",
       "12                      payment_type_voucher    -0.574344"
      ]
     },
     "execution_count": 38,
     "metadata": {},
     "output_type": "execute_result"
    }
   ],
   "source": [
    "coefficients = model.coef_\n",
    "intercept = model.intercept_\n",
    "feature_names = X_train.columns\n",
    "coefficients_df = pd.DataFrame({'Feature': feature_names, 'coefficient': coefficients[0]})\n",
    "coefficients_df = coefficients_df.sort_values(by='coefficient', ascending=False)\n",
    "coefficients_df"
   ]
  },
  {
   "cell_type": "markdown",
   "metadata": {},
   "source": [
    "# Random Forest"
   ]
  },
  {
   "cell_type": "code",
   "execution_count": 56,
   "metadata": {},
   "outputs": [
    {
     "name": "stdout",
     "output_type": "stream",
     "text": [
      "Training Accuracy: 0.9891876696184329\n",
      "Testing Accuracy: 0.616642158982787\n"
     ]
    }
   ],
   "source": [
    "rf_classifier = RandomForestClassifier(random_state=10)\n",
    "rf_classifier.fit(X_train, y_train)\n",
    "train_accuracy = rf_classifier.score(X_train, y_train)\n",
    "print(\"Training Accuracy:\", train_accuracy)\n",
    "test_accuracy = rf_classifier.score(X_test, y_test)\n",
    "print(\"Testing Accuracy:\", test_accuracy)"
   ]
  },
  {
   "cell_type": "code",
   "execution_count": 57,
   "metadata": {},
   "outputs": [
    {
     "name": "stdout",
     "output_type": "stream",
     "text": [
      "                  precision    recall  f1-score   support\n",
      "\n",
      "       0-30 days       0.50      0.27      0.35      1245\n",
      "       1-3 month       0.56      0.47      0.51      2969\n",
      "      3-6 months       0.66      0.62      0.64      4831\n",
      " 6 months-1 year       0.63      0.76      0.69      8520\n",
      "More than 1 year       0.59      0.54      0.57      5557\n",
      "\n",
      "        accuracy                           0.62     23122\n",
      "       macro avg       0.59      0.53      0.55     23122\n",
      "    weighted avg       0.61      0.62      0.61     23122\n",
      "\n"
     ]
    }
   ],
   "source": [
    "predicted_y = rf_classifier.predict(X_test)\n",
    "print(classification_report(y_test, predicted_y))"
   ]
  },
  {
   "cell_type": "code",
   "execution_count": 58,
   "metadata": {},
   "outputs": [
    {
     "data": {
      "image/png": "[encoded data removed]",
      "text/plain": [
       "<Figure size 800x600 with 1 Axes>"
      ]
     },
     "metadata": {},
     "output_type": "display_data"
    }
   ],
   "source": [
    "conf_matrix = confusion_matrix(y_test, predicted_y)\n",
    "\n",
    "plt.figure(figsize=(8, 6))\n",
    "sns.heatmap(conf_matrix, annot=True, fmt='d', cmap='Blues', cbar=False)\n",
    "plt.xlabel('Predicted labels')\n",
    "plt.ylabel('True labels')\n",
    "plt.title('Confusion Matrix')\n",
    "plt.show()"
   ]
  },
  {
   "cell_type": "code",
   "execution_count": 66,
   "metadata": {},
   "outputs": [
    {
     "name": "stdout",
     "output_type": "stream",
     "text": [
      "F1: 0.6090250175360783\n"
     ]
    }
   ],
   "source": [
    "f1 = f1_score(y_test, predicted_y, average='weighted')\n",
    "print(\"F1:\", f1)"
   ]
  },
  {
   "cell_type": "code",
   "execution_count": 67,
   "metadata": {},
   "outputs": [
    {
     "data": {
      "image/png": "[encoded data removed]",
      "text/plain": [
       "<Figure size 640x480 with 1 Axes>"
      ]
     },
     "metadata": {},
     "output_type": "display_data"
    }
   ],
   "source": [
    "feature_importances = pd.DataFrame(rf_classifier.feature_importances_)\n",
    "feature_importances[\"Feature\"] = X_train.columns\n",
    "sns.barplot(x=0, y='Feature', data=feature_importances.sort_values(by=0,ascending=False)[:5])\n",
    "plt.show()"
   ]
  }
 ],
 "metadata": {
  "kernelspec": {
   "display_name": "Python 3",
   "language": "python",
   "name": "python3"
  },
  "language_info": {
   "codemirror_mode": {
    "name": "ipython",
    "version": 3
   },
   "file_extension": ".py",
   "mimetype": "text/x-python",
   "name": "python",
   "nbconvert_exporter": "python",
   "pygments_lexer": "ipython3",
   "version": "3.11.8"
  }
 },
 "nbformat": 4,
 "nbformat_minor": 2
}
